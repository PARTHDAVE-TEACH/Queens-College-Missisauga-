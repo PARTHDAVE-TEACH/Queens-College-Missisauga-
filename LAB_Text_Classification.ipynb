{
  "nbformat": 4,
  "nbformat_minor": 0,
  "metadata": {
    "colab": {
      "provenance": []
    },
    "kernelspec": {
      "name": "python3",
      "display_name": "Python 3"
    },
    "language_info": {
      "name": "python"
    }
  },
  "cells": [
    {
      "cell_type": "code",
      "execution_count": null,
      "metadata": {
        "id": "9YeRD862nY5L"
      },
      "outputs": [],
      "source": [
        "## Text Classification"
      ]
    },
    {
      "cell_type": "code",
      "source": [
        "from sklearn.datasets import fetch_20newsgroups\n",
        "import numpy as np\n",
        "\n",
        "import matplotlib.pyplot as plt\n",
        "import pandas as pd\n",
        "import warnings\n",
        "warnings.filterwarnings('ignore')\n",
        "\n",
        "%matplotlib inline"
      ],
      "metadata": {
        "id": "yep-T47fnhWK"
      },
      "execution_count": null,
      "outputs": []
    },
    {
      "cell_type": "code",
      "source": [
        "## Import lib files"
      ],
      "metadata": {
        "id": "dTPRPWswnhTs"
      },
      "execution_count": null,
      "outputs": []
    },
    {
      "cell_type": "code",
      "source": [
        "import nltk"
      ],
      "metadata": {
        "id": "R26xbhZInhRy"
      },
      "execution_count": null,
      "outputs": []
    },
    {
      "cell_type": "code",
      "source": [
        "nltk.download('stopwords')"
      ],
      "metadata": {
        "id": "QDYfgdHEnhPv"
      },
      "execution_count": null,
      "outputs": []
    },
    {
      "cell_type": "code",
      "source": [
        "import text_normalizer as tn"
      ],
      "metadata": {
        "id": "c7Rs8Z6WnhH2"
      },
      "execution_count": null,
      "outputs": []
    },
    {
      "cell_type": "code",
      "source": [
        "data = fetch_20newsgroups(subset='all', shuffle=True,\n",
        "                          remove=('headers', 'footers', 'quotes'))\n",
        "data_labels_map = dict(enumerate(data.target_names))"
      ],
      "metadata": {
        "id": "tGG4HO3YnhE-"
      },
      "execution_count": null,
      "outputs": []
    },
    {
      "cell_type": "code",
      "source": [
        "corpus, target_labels, target_names = (data.data, data.target,\n",
        "                                       [data_labels_map[label] for label in data.target])\n",
        "data_df = pd.DataFrame({'Article': corpus, 'Target Label': target_labels, 'Target Name': target_names})\n",
        "print(data_df.shape)\n",
        "data_df.head(10)"
      ],
      "metadata": {
        "id": "zJ0Thr3UnhCR"
      },
      "execution_count": null,
      "outputs": []
    },
    {
      "cell_type": "code",
      "source": [
        "# removing null values"
      ],
      "metadata": {
        "id": "wym3Q73gntxd"
      },
      "execution_count": null,
      "outputs": []
    },
    {
      "cell_type": "code",
      "source": [
        "target_labels"
      ],
      "metadata": {
        "id": "kwOUBWstnwZT"
      },
      "execution_count": null,
      "outputs": []
    },
    {
      "cell_type": "code",
      "source": [
        "total_nulls = data_df[data_df.Article.str.strip() == ''].shape[0]\n",
        "print(\"Empty documents:\", total_nulls)"
      ],
      "metadata": {
        "id": "WWpaqEVSoAir"
      },
      "execution_count": null,
      "outputs": []
    },
    {
      "cell_type": "code",
      "source": [
        "data_df = data_df[~(data_df.Article.str.strip() == '')]\n",
        "data_df.shape"
      ],
      "metadata": {
        "id": "H1TphF0NoC1I"
      },
      "execution_count": null,
      "outputs": []
    },
    {
      "cell_type": "code",
      "source": [
        "#Text PreProcessing"
      ],
      "metadata": {
        "id": "20kBVNfvoE_q"
      },
      "execution_count": null,
      "outputs": []
    },
    {
      "cell_type": "code",
      "source": [
        "import nltk\n",
        "stopword_list = nltk.corpus.stopwords.words('english')\n",
        "# just to keep negation if any in bi-grams\n",
        "stopword_list.remove('no')\n",
        "stopword_list.remove('not')\n",
        "\n",
        "# normalize our corpus\n",
        "norm_corpus = tn.normalize_corpus(corpus=data_df['Article'], html_stripping=True, contraction_expansion=True,\n",
        "                                  accented_char_removal=True, text_lower_case=True, text_lemmatization=True,\n",
        "                                  text_stemming=False, special_char_removal=True, remove_digits=True,\n",
        "                                  stopword_removal=True, stopwords=stopword_list)\n",
        "data_df['Clean Article'] = norm_corpus"
      ],
      "metadata": {
        "id": "wpzqGE5foLqn"
      },
      "execution_count": null,
      "outputs": []
    },
    {
      "cell_type": "code",
      "source": [
        "data_df = data_df.replace(r'^(\\s?)+$', np.nan, regex=True)\n",
        "data_df.info()"
      ],
      "metadata": {
        "id": "KKeYztdJoLoF"
      },
      "execution_count": null,
      "outputs": []
    },
    {
      "cell_type": "code",
      "source": [
        "data_df = data_df.dropna().reset_index(drop=True)\n",
        "data_df.info()"
      ],
      "metadata": {
        "id": "6XQcNWOZoLlI"
      },
      "execution_count": null,
      "outputs": []
    },
    {
      "cell_type": "code",
      "source": [
        "#convert data into csv"
      ],
      "metadata": {
        "id": "M6t19-nSoLiZ"
      },
      "execution_count": null,
      "outputs": []
    },
    {
      "cell_type": "code",
      "source": [
        "data_df.to_csv('clean_newsgroups.csv', index=False)"
      ],
      "metadata": {
        "id": "klUbstd3oLev"
      },
      "execution_count": null,
      "outputs": []
    },
    {
      "cell_type": "code",
      "source": [
        "data_df = pd.read_csv('clean_newsgroups.csv')"
      ],
      "metadata": {
        "id": "qw4t-MssoWhT"
      },
      "execution_count": null,
      "outputs": []
    },
    {
      "cell_type": "code",
      "source": [
        "## Train test split"
      ],
      "metadata": {
        "id": "qNCs9DS3oWfJ"
      },
      "execution_count": null,
      "outputs": []
    },
    {
      "cell_type": "code",
      "source": [
        "from sklearn.model_selection import train_test_split\n",
        "\n",
        "train_corpus, test_corpus, train_label_nums, test_label_nums, train_label_names, test_label_names =\\\n",
        "                                 train_test_split(np.array(data_df['Clean Article']), np.array(data_df['Target Label']),\n",
        "                                                       np.array(data_df['Target Name']), test_size=0.33, random_state=42)\n",
        "\n",
        "train_corpus.shape, test_corpus.shape"
      ],
      "metadata": {
        "id": "Vtd0y-aroWci"
      },
      "execution_count": null,
      "outputs": []
    },
    {
      "cell_type": "code",
      "source": [
        "from collections import Counter\n",
        "\n",
        "trd = dict(Counter(train_label_names))\n",
        "tsd = dict(Counter(test_label_names))\n",
        "\n",
        "(pd.DataFrame([[key, trd[key], tsd[key]] for key in trd],\n",
        "             columns=['Target Label', 'Train Count', 'Test Count'])\n",
        ".sort_values(by=['Train Count', 'Test Count'],\n",
        "             ascending=False))"
      ],
      "metadata": {
        "id": "iDiP-QXkoWaB"
      },
      "execution_count": null,
      "outputs": []
    },
    {
      "cell_type": "code",
      "source": [
        "from sklearn.feature_extraction.text import CountVectorizer\n",
        "from sklearn.model_selection import cross_val_score\n",
        "\n",
        "# build BOW features on train articles\n",
        "cv = CountVectorizer(binary=False, min_df=0.0, max_df=1.0)\n",
        "cv_train_features = cv.fit_transform(train_corpus)"
      ],
      "metadata": {
        "id": "FtZTXSe5pfrD"
      },
      "execution_count": null,
      "outputs": []
    },
    {
      "cell_type": "code",
      "source": [
        "# transform test articles into features\n",
        "cv_test_features = cv.transform(test_corpus)"
      ],
      "metadata": {
        "id": "gndjhrZCpgvr"
      },
      "execution_count": null,
      "outputs": []
    },
    {
      "cell_type": "code",
      "source": [
        "print('BOW model:> Train features shape:', cv_train_features.shape, ' Test features shape:', cv_test_features.shape)"
      ],
      "metadata": {
        "id": "4CZv3wkYpgsw"
      },
      "execution_count": null,
      "outputs": []
    },
    {
      "cell_type": "code",
      "source": [
        "Apply Machine Learning"
      ],
      "metadata": {
        "id": "1vl8cQC0pggw"
      },
      "execution_count": null,
      "outputs": []
    },
    {
      "cell_type": "code",
      "source": [
        "from sklearn.naive_bayes import MultinomialNB\n",
        "\n",
        "mnb = MultinomialNB(alpha=1)\n",
        "mnb.fit(cv_train_features, train_label_names)\n",
        "mnb_bow_cv_scores = cross_val_score(mnb, cv_train_features, train_label_names, cv=5)\n",
        "mnb_bow_cv_mean_score = np.mean(mnb_bow_cv_scores)\n",
        "print('CV Accuracy (5-fold):', mnb_bow_cv_scores)\n",
        "print('Mean CV Accuracy:', mnb_bow_cv_mean_score)\n",
        "mnb_bow_test_score = mnb.score(cv_test_features, test_label_names)\n",
        "print('Test Accuracy:', mnb_bow_test_score)"
      ],
      "metadata": {
        "id": "NKIoJ4Hxw7Z8"
      },
      "execution_count": null,
      "outputs": []
    },
    {
      "cell_type": "code",
      "source": [
        "from sklearn.linear_model import LogisticRegression\n",
        "\n",
        "lr = LogisticRegression(penalty='l2', max_iter=100, C=1, random_state=42)\n",
        "lr.fit(cv_train_features, train_label_names)\n",
        "lr_bow_cv_scores = cross_val_score(lr, cv_train_features, train_label_names, cv=5)\n",
        "lr_bow_cv_mean_score = np.mean(lr_bow_cv_scores)\n",
        "print('CV Accuracy (5-fold):', lr_bow_cv_scores)\n",
        "print('Mean CV Accuracy:', lr_bow_cv_mean_score)\n",
        "lr_bow_test_score = lr.score(cv_test_features, test_label_names)\n",
        "print('Test Accuracy:', lr_bow_test_score)"
      ],
      "metadata": {
        "id": "4OjVkGUVw7Xb"
      },
      "execution_count": null,
      "outputs": []
    },
    {
      "cell_type": "code",
      "source": [
        "from sklearn.svm import LinearSVC\n",
        "\n",
        "svm = LinearSVC(penalty='l2', C=1, random_state=42)\n",
        "svm.fit(cv_train_features, train_label_names)\n",
        "svm_bow_cv_scores = cross_val_score(svm, cv_train_features, train_label_names, cv=5)\n",
        "svm_bow_cv_mean_score = np.mean(svm_bow_cv_scores)\n",
        "print('CV Accuracy (5-fold):', svm_bow_cv_scores)\n",
        "print('Mean CV Accuracy:', svm_bow_cv_mean_score)\n",
        "svm_bow_test_score = svm.score(cv_test_features, test_label_names)\n",
        "print('Test Accuracy:', svm_bow_test_score)"
      ],
      "metadata": {
        "id": "3e_WL_Umw7UB"
      },
      "execution_count": null,
      "outputs": []
    },
    {
      "cell_type": "code",
      "source": [
        "from sklearn.linear_model import SGDClassifier\n",
        "\n",
        "svm_sgd = SGDClassifier(loss='hinge', penalty='l2', max_iter=5, random_state=42)\n",
        "svm_sgd.fit(cv_train_features, train_label_names)\n",
        "svmsgd_bow_cv_scores = cross_val_score(svm_sgd, cv_train_features, train_label_names, cv=5)\n",
        "svmsgd_bow_cv_mean_score = np.mean(svmsgd_bow_cv_scores)\n",
        "print('CV Accuracy (5-fold):', svmsgd_bow_cv_scores)\n",
        "print('Mean CV Accuracy:', svmsgd_bow_cv_mean_score)\n",
        "svmsgd_bow_test_score = svm_sgd.score(cv_test_features, test_label_names)\n",
        "print('Test Accuracy:', svmsgd_bow_test_score)"
      ],
      "metadata": {
        "id": "sDzydZHVw7RN"
      },
      "execution_count": null,
      "outputs": []
    },
    {
      "cell_type": "code",
      "source": [
        "from sklearn.ensemble import RandomForestClassifier\n",
        "\n",
        "rfc = RandomForestClassifier(n_estimators=10, random_state=42)\n",
        "rfc.fit(cv_train_features, train_label_names)\n",
        "rfc_bow_cv_scores = cross_val_score(rfc, cv_train_features, train_label_names, cv=5)\n",
        "rfc_bow_cv_mean_score = np.mean(rfc_bow_cv_scores)\n",
        "print('CV Accuracy (5-fold):', rfc_bow_cv_scores)\n",
        "print('Mean CV Accuracy:', rfc_bow_cv_mean_score)\n",
        "rfc_bow_test_score = rfc.score(cv_test_features, test_label_names)\n",
        "print('Test Accuracy:', rfc_bow_test_score)"
      ],
      "metadata": {
        "id": "idEEDCl5w7Ob"
      },
      "execution_count": null,
      "outputs": []
    },
    {
      "cell_type": "code",
      "source": [
        "from sklearn.ensemble import GradientBoostingClassifier\n",
        "\n",
        "gbc = GradientBoostingClassifier(n_estimators=10, random_state=42)\n",
        "gbc.fit(cv_train_features, train_label_names)\n",
        "gbc_bow_cv_scores = cross_val_score(gbc, cv_train_features, train_label_names, cv=5)\n",
        "gbc_bow_cv_mean_score = np.mean(gbc_bow_cv_scores)\n",
        "print('CV Accuracy (5-fold):', gbc_bow_cv_scores)\n",
        "print('Mean CV Accuracy:', gbc_bow_cv_mean_score)\n",
        "gbc_bow_test_score = gbc.score(cv_test_features, test_label_names)\n",
        "print('Test Accuracy:', gbc_bow_test_score)"
      ],
      "metadata": {
        "id": "os_lbtqbw7Li"
      },
      "execution_count": null,
      "outputs": []
    },
    {
      "cell_type": "code",
      "source": [
        "## Apply TF-IDF"
      ],
      "metadata": {
        "id": "i13OV03ww7JH"
      },
      "execution_count": null,
      "outputs": []
    },
    {
      "cell_type": "code",
      "source": [
        "from sklearn.feature_extraction.text import TfidfVectorizer\n",
        "\n",
        "# build BOW features on train articles\n",
        "tv = TfidfVectorizer(use_idf=True, min_df=0.0, max_df=1.0)\n",
        "tv_train_features = tv.fit_transform(train_corpus)"
      ],
      "metadata": {
        "id": "iWC1SiRaw7FS"
      },
      "execution_count": null,
      "outputs": []
    },
    {
      "cell_type": "code",
      "source": [
        "# transform test articles into features\n",
        "tv_test_features = tv.transform(test_corpus)"
      ],
      "metadata": {
        "id": "yLwiyVUIxNI6"
      },
      "execution_count": null,
      "outputs": []
    },
    {
      "cell_type": "code",
      "source": [
        "print('TFIDF model:> Train features shape:', tv_train_features.shape, ' Test features shape:', tv_test_features.shape)"
      ],
      "metadata": {
        "id": "cwShQlp2zFr7"
      },
      "execution_count": null,
      "outputs": []
    },
    {
      "cell_type": "code",
      "source": [
        "mnb = MultinomialNB(alpha=1)\n",
        "mnb.fit(tv_train_features, train_label_names)\n",
        "mnb_tfidf_cv_scores = cross_val_score(mnb, tv_train_features, train_label_names, cv=5)\n",
        "mnb_tfidf_cv_mean_score = np.mean(mnb_tfidf_cv_scores)\n",
        "print('CV Accuracy (5-fold):', mnb_tfidf_cv_scores)\n",
        "print('Mean CV Accuracy:', mnb_tfidf_cv_mean_score)\n",
        "mnb_tfidf_test_score = mnb.score(tv_test_features, test_label_names)\n",
        "print('Test Accuracy:', mnb_tfidf_test_score)"
      ],
      "metadata": {
        "id": "fvNQ-jIOyih1"
      },
      "execution_count": null,
      "outputs": []
    },
    {
      "cell_type": "code",
      "source": [
        "lr = LogisticRegression(penalty='l2', max_iter=100, C=1, random_state=42)\n",
        "lr.fit(tv_train_features, train_label_names)\n",
        "lr_tfidf_cv_scores = cross_val_score(lr, tv_train_features, train_label_names, cv=5)\n",
        "lr_tfidf_cv_mean_score = np.mean(lr_tfidf_cv_scores)\n",
        "print('CV Accuracy (5-fold):', lr_tfidf_cv_scores)\n",
        "print('Mean CV Accuracy:', lr_tfidf_cv_mean_score)\n",
        "lr_tfidf_test_score = lr.score(tv_test_features, test_label_names)\n",
        "print('Test Accuracy:', lr_tfidf_test_score)"
      ],
      "metadata": {
        "id": "jgRXcbR_yifA"
      },
      "execution_count": null,
      "outputs": []
    },
    {
      "cell_type": "code",
      "source": [
        "svm = LinearSVC(penalty='l2', C=1, random_state=42)\n",
        "svm.fit(tv_train_features, train_label_names)\n",
        "svm_tfidf_cv_scores = cross_val_score(svm, tv_train_features, train_label_names, cv=5)\n",
        "svm_tfidf_cv_mean_score = np.mean(svm_tfidf_cv_scores)\n",
        "print('CV Accuracy (5-fold):', svm_tfidf_cv_scores)\n",
        "print('Mean CV Accuracy:', svm_tfidf_cv_mean_score)\n",
        "svm_tfidf_test_score = svm.score(tv_test_features, test_label_names)\n",
        "print('Test Accuracy:', svm_tfidf_test_score)"
      ],
      "metadata": {
        "id": "0MEXhM3ryicf"
      },
      "execution_count": null,
      "outputs": []
    },
    {
      "cell_type": "code",
      "source": [
        "svm_sgd = SGDClassifier(loss='hinge', penalty='l2', max_iter=5, random_state=42)\n",
        "svm_sgd.fit(tv_train_features, train_label_names)\n",
        "svmsgd_tfidf_cv_scores = cross_val_score(svm_sgd, tv_train_features, train_label_names, cv=5)\n",
        "svmsgd_tfidf_cv_mean_score = np.mean(svmsgd_tfidf_cv_scores)\n",
        "print('CV Accuracy (5-fold):', svmsgd_tfidf_cv_scores)\n",
        "print('Mean CV Accuracy:', svmsgd_tfidf_cv_mean_score)\n",
        "svmsgd_tfidf_test_score = svm_sgd.score(tv_test_features, test_label_names)\n",
        "print('Test Accuracy:', svmsgd_tfidf_test_score)"
      ],
      "metadata": {
        "id": "zYxl8pOjyiZq"
      },
      "execution_count": null,
      "outputs": []
    },
    {
      "cell_type": "code",
      "source": [
        "rfc = RandomForestClassifier(n_estimators=10, random_state=42)\n",
        "rfc.fit(tv_train_features, train_label_names)\n",
        "rfc_tfidf_cv_scores = cross_val_score(rfc, tv_train_features, train_label_names, cv=5)\n",
        "rfc_tfidf_cv_mean_score = np.mean(rfc_tfidf_cv_scores)\n",
        "print('CV Accuracy (5-fold):', rfc_tfidf_cv_scores)\n",
        "print('Mean CV Accuracy:', rfc_tfidf_cv_mean_score)\n",
        "rfc_tfidf_test_score = rfc.score(tv_test_features, test_label_names)\n",
        "print('Test Accuracy:', rfc_tfidf_test_score)"
      ],
      "metadata": {
        "id": "v-CtzVj3yiWq"
      },
      "execution_count": null,
      "outputs": []
    },
    {
      "cell_type": "markdown",
      "source": [
        "## dont run gradient boost - it will take lot of time"
      ],
      "metadata": {
        "id": "uO_biNB1zhaf"
      }
    },
    {
      "cell_type": "code",
      "source": [
        "gbc = GradientBoostingClassifier(n_estimators=10, random_state=42)\n",
        "gbc.fit(tv_train_features, train_label_names)\n",
        "gbc_tfidf_cv_scores = cross_val_score(gbc, tv_train_features, train_label_names, cv=5)\n",
        "gbc_tfidf_cv_mean_score = np.mean(gbc_tfidf_cv_scores)\n",
        "print('CV Accuracy (5-fold):', gbc_tfidf_cv_scores)\n",
        "print('Mean CV Accuracy:', gbc_tfidf_cv_mean_score)\n",
        "gbc_tfidf_test_score = gbc.score(tv_test_features, test_label_names)\n",
        "print('Test Accuracy:', gbc_tfidf_test_score)"
      ],
      "metadata": {
        "id": "3s0pEfFGyiRc"
      },
      "execution_count": null,
      "outputs": []
    },
    {
      "cell_type": "code",
      "source": [
        "## If you have not run Gradient boost use code \"A\" else use code \"B\""
      ],
      "metadata": {
        "id": "LCAmRkkzyiHn"
      },
      "execution_count": null,
      "outputs": []
    },
    {
      "cell_type": "code",
      "source": [
        "# code A"
      ],
      "metadata": {
        "id": "0h2lgokszuu5"
      },
      "execution_count": null,
      "outputs": []
    },
    {
      "cell_type": "code",
      "source": [
        "gbc_bow_cv_mean_score =0.548239"
      ],
      "metadata": {
        "id": "pgLrLID02JlC"
      },
      "execution_count": null,
      "outputs": []
    },
    {
      "cell_type": "code",
      "source": [
        "gbc_bow_test_score =0.547923"
      ],
      "metadata": {
        "id": "vy6CmEtf2KPW"
      },
      "execution_count": null,
      "outputs": []
    },
    {
      "cell_type": "code",
      "source": [
        "gbc_tfidf_cv_mean_score =0.551575"
      ],
      "metadata": {
        "id": "yxegSXPU2Mm8"
      },
      "execution_count": null,
      "outputs": []
    },
    {
      "cell_type": "code",
      "source": [
        "gbc_tfidf_test_score =0.548585"
      ],
      "metadata": {
        "id": "fNCbcZeP2PhY"
      },
      "execution_count": null,
      "outputs": []
    },
    {
      "cell_type": "code",
      "source": [
        "pd.DataFrame([['Naive Bayes', mnb_bow_cv_mean_score, mnb_bow_test_score,\n",
        "               mnb_tfidf_cv_mean_score, mnb_tfidf_test_score],\n",
        "              ['Logistic Regression', lr_bow_cv_mean_score, lr_bow_test_score,\n",
        "               lr_tfidf_cv_mean_score, lr_tfidf_test_score],\n",
        "              ['Linear SVM', svm_bow_cv_mean_score, svm_bow_test_score,\n",
        "               svm_tfidf_cv_mean_score, svm_tfidf_test_score],\n",
        "              ['Linear SVM (SGD)', svmsgd_bow_cv_mean_score, svmsgd_bow_test_score,\n",
        "               svmsgd_tfidf_cv_mean_score, svmsgd_tfidf_test_score],\n",
        "              ['Random Forest', rfc_bow_cv_mean_score, rfc_bow_test_score,\n",
        "               rfc_tfidf_cv_mean_score, rfc_tfidf_test_score],\n",
        "             columns=['Model', 'CV Score (TF)', 'Test Score (TF)', 'CV Score (TF-IDF)', 'Test Score (TF-IDF)'],\n",
        "             ).T"
      ],
      "metadata": {
        "id": "ovVrOkyfz1Q-"
      },
      "execution_count": null,
      "outputs": []
    },
    {
      "cell_type": "code",
      "source": [
        "# code B"
      ],
      "metadata": {
        "id": "WPqrCkx0z1vV"
      },
      "execution_count": null,
      "outputs": []
    },
    {
      "cell_type": "code",
      "source": [
        "pd.DataFrame([['Naive Bayes', mnb_bow_cv_mean_score, mnb_bow_test_score,\n",
        "               mnb_tfidf_cv_mean_score, mnb_tfidf_test_score],\n",
        "              ['Logistic Regression', lr_bow_cv_mean_score, lr_bow_test_score,\n",
        "               lr_tfidf_cv_mean_score, lr_tfidf_test_score],\n",
        "              ['Linear SVM', svm_bow_cv_mean_score, svm_bow_test_score,\n",
        "               svm_tfidf_cv_mean_score, svm_tfidf_test_score],\n",
        "              ['Linear SVM (SGD)', svmsgd_bow_cv_mean_score, svmsgd_bow_test_score,\n",
        "               svmsgd_tfidf_cv_mean_score, svmsgd_tfidf_test_score],\n",
        "              ['Random Forest', rfc_bow_cv_mean_score, rfc_bow_test_score,\n",
        "               rfc_tfidf_cv_mean_score, rfc_tfidf_test_score],\n",
        "              ['Gradient Boosted Machines', gbc_bow_cv_mean_score, gbc_bow_test_score,\n",
        "               gbc_tfidf_cv_mean_score, gbc_tfidf_test_score]],\n",
        "             columns=['Model', 'CV Score (TF)', 'Test Score (TF)', 'CV Score (TF-IDF)', 'Test Score (TF-IDF)'],\n",
        "             ).T"
      ],
      "metadata": {
        "id": "bbJ5OvnGz3zf"
      },
      "execution_count": null,
      "outputs": []
    },
    {
      "cell_type": "code",
      "source": [
        "# Pipeline engineering"
      ],
      "metadata": {
        "id": "EpsvmTrJ2TXC"
      },
      "execution_count": null,
      "outputs": []
    },
    {
      "cell_type": "code",
      "source": [
        "from sklearn.pipeline import Pipeline\n",
        "from sklearn.model_selection import GridSearchCV\n",
        "from sklearn.naive_bayes import MultinomialNB\n",
        "from sklearn.feature_extraction.text import TfidfVectorizer\n",
        "\n",
        "mnb_pipeline = Pipeline([('tfidf', TfidfVectorizer()),\n",
        "                        ('mnb', MultinomialNB())\n",
        "                       ])\n",
        "\n",
        "param_grid = {'tfidf__ngram_range': [(1, 1), (1, 2)],\n",
        "              'mnb__alpha': [1e-5, 1e-4, 1e-2, 1e-1, 1]\n",
        "}\n",
        "\n",
        "gs_mnb = GridSearchCV(mnb_pipeline, param_grid, cv=5, verbose=2)\n",
        "gs_mnb = gs_mnb.fit(train_corpus, train_label_names)"
      ],
      "metadata": {
        "id": "Wp-bxixH2V11"
      },
      "execution_count": null,
      "outputs": []
    },
    {
      "cell_type": "code",
      "source": [
        "gs_mnb.best_estimator_.get_params()"
      ],
      "metadata": {
        "id": "5VOX2vmz3UUs"
      },
      "execution_count": null,
      "outputs": []
    },
    {
      "cell_type": "code",
      "source": [
        "cv_results = gs_mnb.cv_results_\n",
        "results_df = pd.DataFrame({'rank': cv_results['rank_test_score'],\n",
        "                           'params': cv_results['params'],\n",
        "                           'cv score (mean)': cv_results['mean_test_score'],\n",
        "                           'cv score (std)': cv_results['std_test_score']}\n",
        "              )\n",
        "results_df = results_df.sort_values(by=['rank'], ascending=True)\n",
        "pd.set_option('display.max_colwidth', 100)\n",
        "results_df"
      ],
      "metadata": {
        "id": "oRTCet8z3bBj"
      },
      "execution_count": null,
      "outputs": []
    },
    {
      "cell_type": "code",
      "source": [
        "best_mnb_test_score = gs_mnb.score(test_corpus, test_label_names)\n",
        "print('Test Accuracy :', best_mnb_test_score)"
      ],
      "metadata": {
        "id": "AC79HOQH3dPr"
      },
      "execution_count": null,
      "outputs": []
    },
    {
      "cell_type": "code",
      "source": [
        "from sklearn.linear_model import LogisticRegression, SGDClassifier\n",
        "from sklearn.svm import LinearSVC"
      ],
      "metadata": {
        "id": "99XjRgwu3kxn"
      },
      "execution_count": null,
      "outputs": []
    },
    {
      "cell_type": "markdown",
      "source": [
        "## This code will take 1 hr to complete execution"
      ],
      "metadata": {
        "id": "uTvd2S_ICztk"
      }
    },
    {
      "cell_type": "code",
      "source": [
        "from sklearn.pipeline import Pipeline\n",
        "from sklearn.model_selection import GridSearchCV\n",
        "\n",
        "lr_pipeline = Pipeline([('tfidf', TfidfVectorizer()),\n",
        "                        ('lr', LogisticRegression(penalty='l2', max_iter=100, random_state=42))\n",
        "                       ])\n",
        "\n",
        "param_grid = {'tfidf__ngram_range': [(1, 1), (1, 2)],\n",
        "              'lr__C': [1, 5, 10]\n",
        "}\n",
        "\n",
        "gs_lr = GridSearchCV(lr_pipeline, param_grid, cv=5, verbose=2)\n",
        "gs_lr = gs_lr.fit(train_corpus, train_label_names)"
      ],
      "metadata": {
        "id": "fMnFzGRr3znm"
      },
      "execution_count": null,
      "outputs": []
    },
    {
      "cell_type": "code",
      "source": [
        "gs_lr.best_estimator_"
      ],
      "metadata": {
        "id": "EiJqdbQ132Ck"
      },
      "execution_count": null,
      "outputs": []
    },
    {
      "cell_type": "code",
      "source": [
        "best_lr_test_score = gs_lr.score(test_corpus, test_label_names)\n",
        "print('Test Accuracy :', best_lr_test_score)"
      ],
      "metadata": {
        "id": "ytzm2ZiO331w"
      },
      "execution_count": null,
      "outputs": []
    },
    {
      "cell_type": "code",
      "source": [
        "from sklearn.pipeline import Pipeline\n",
        "from sklearn.model_selection import GridSearchCV\n",
        "\n",
        "svm_pipeline = Pipeline([('tfidf', TfidfVectorizer()),\n",
        "                        ('svm', LinearSVC(random_state=42))\n",
        "                       ])\n",
        "\n",
        "param_grid = {'tfidf__ngram_range': [(1, 1), (1, 2)],\n",
        "              'svm__C': [0.01, 0.1, 1, 5]\n",
        "}\n",
        "\n",
        "gs_svm = GridSearchCV(svm_pipeline, param_grid, cv=5, verbose=2)\n",
        "gs_svm = gs_svm.fit(train_corpus, train_label_names)"
      ],
      "metadata": {
        "id": "4qyV5MqE35vp"
      },
      "execution_count": null,
      "outputs": []
    },
    {
      "cell_type": "code",
      "source": [
        "gs_svm.best_estimator_.get_params()"
      ],
      "metadata": {
        "id": "W0Fr6xIK38R9"
      },
      "execution_count": null,
      "outputs": []
    },
    {
      "cell_type": "code",
      "source": [
        "best_svm_test_score = gs_svm.score(test_corpus, test_label_names)\n",
        "print('Test Accuracy :', best_svm_test_score)"
      ],
      "metadata": {
        "id": "EhKWG7xwA3qz"
      },
      "execution_count": null,
      "outputs": []
    },
    {
      "cell_type": "code",
      "source": [
        "from sklearn.pipeline import Pipeline\n",
        "from sklearn.model_selection import GridSearchCV\n",
        "\n",
        "sgd_pipeline = Pipeline([('tfidf', TfidfVectorizer()),\n",
        "                        ('sgd', SGDClassifier(random_state=42))\n",
        "                       ])\n",
        "\n",
        "param_grid = {'tfidf__ngram_range': [(1, 1), (1, 2)],\n",
        "              'sgd__alpha': [1e-7, 1e-6, 1e-5, 1e-4]\n",
        "}\n",
        "\n",
        "gs_sgd = GridSearchCV(sgd_pipeline, param_grid, cv=5, verbose=2)\n",
        "gs_sgd = gs_sgd.fit(train_corpus, train_label_names)"
      ],
      "metadata": {
        "id": "6kHV3dyFBRlk"
      },
      "execution_count": null,
      "outputs": []
    },
    {
      "cell_type": "code",
      "source": [
        "gs_sgd.best_estimator_.get_params()"
      ],
      "metadata": {
        "id": "0t206VPiBUm3"
      },
      "execution_count": null,
      "outputs": []
    },
    {
      "cell_type": "code",
      "source": [
        "best_sgd_test_score = gs_sgd.score(test_corpus, test_label_names)\n",
        "print('Test Accuracy :', best_sgd_test_score)"
      ],
      "metadata": {
        "id": "s2aLe0CEBWqP"
      },
      "execution_count": null,
      "outputs": []
    },
    {
      "cell_type": "code",
      "source": [
        "## Import model evaluation file now"
      ],
      "metadata": {
        "id": "_k_1y7HCBYoZ"
      },
      "execution_count": null,
      "outputs": []
    },
    {
      "cell_type": "code",
      "source": [
        "import model_evaluation_utils as meu"
      ],
      "metadata": {
        "id": "op1lwdCvFPCJ"
      },
      "execution_count": null,
      "outputs": []
    },
    {
      "cell_type": "code",
      "source": [
        "mnb_predictions = gs_mnb.predict(test_corpus)\n",
        "unique_classes = list(set(test_label_names))\n",
        "meu.get_metrics(true_labels=test_label_names, predicted_labels=mnb_predictions)"
      ],
      "metadata": {
        "id": "PnCHQJn6FPtr"
      },
      "execution_count": null,
      "outputs": []
    },
    {
      "cell_type": "code",
      "source": [
        "meu.display_classification_report(true_labels=test_label_names,\n",
        "                                  predicted_labels=mnb_predictions, classes=unique_classes)"
      ],
      "metadata": {
        "id": "91aWsUHuFRuc"
      },
      "execution_count": null,
      "outputs": []
    },
    {
      "cell_type": "code",
      "source": [
        "label_data_map = {v:k for k, v in data_labels_map.items()}\n",
        "label_map_df = pd.DataFrame(list(label_data_map.items()), columns=['Label Name', 'Label Number'])\n",
        "label_map_df"
      ],
      "metadata": {
        "id": "TihQ0LXiFUvA"
      },
      "execution_count": null,
      "outputs": []
    },
    {
      "cell_type": "code",
      "source": [
        "unique_class_nums = label_map_df['Label Number'].values\n",
        "mnb_prediction_class_nums = [label_data_map[item] for item in mnb_predictions]\n",
        "meu.display_confusion_matrix_pretty(true_labels=test_label_nums,\n",
        "                                   predicted_labels=mnb_prediction_class_nums, classes=unique_class_nums)"
      ],
      "metadata": {
        "id": "zb2My2JPFWpr"
      },
      "execution_count": null,
      "outputs": []
    },
    {
      "cell_type": "code",
      "source": [
        "unique_classes = label_map_df['Label Name'].values\n",
        "meu.display_confusion_matrix_pretty(true_labels=test_label_names,\n",
        "                                    predicted_labels=mnb_predictions, classes=unique_classes)"
      ],
      "metadata": {
        "id": "EpSqKl3yFhR_"
      },
      "execution_count": null,
      "outputs": []
    },
    {
      "cell_type": "code",
      "source": [
        "label_map_df[label_map_df['Label Number'].isin([0, 15, 19])]"
      ],
      "metadata": {
        "id": "guyHDlSuFjZN"
      },
      "execution_count": null,
      "outputs": []
    },
    {
      "cell_type": "code",
      "source": [
        "train_idx, test_idx = train_test_split(np.array(range(len(data_df['Article']))), test_size=0.33, random_state=42)\n",
        "test_idx"
      ],
      "metadata": {
        "id": "YKu9LiHnFmJz"
      },
      "execution_count": null,
      "outputs": []
    },
    {
      "cell_type": "code",
      "source": [
        "predict_probas = gs_mnb.predict_proba(test_corpus).max(axis=1)\n",
        "test_df = data_df.iloc[test_idx]\n",
        "test_df['Predicted Name'] = mnb_predictions\n",
        "test_df['Predicted Confidence'] = predict_probas\n",
        "test_df.head()"
      ],
      "metadata": {
        "id": "5t8nylX_Fnvg"
      },
      "execution_count": null,
      "outputs": []
    },
    {
      "cell_type": "code",
      "source": [
        "pd.set_option('display.max_colwidth', 200)\n",
        "res_df = (test_df[(test_df['Target Name'] == 'talk.religion.misc') & (test_df['Predicted Name'] == 'soc.religion.christian')]\n",
        "       .sort_values(by=['Predicted Confidence'], ascending=False).head(5))\n",
        "res_df"
      ],
      "metadata": {
        "id": "kIq3f3oKFq4Z"
      },
      "execution_count": null,
      "outputs": []
    },
    {
      "cell_type": "code",
      "source": [
        "pd.set_option('display.max_colwidth', 200)\n",
        "res_df = (test_df[(test_df['Target Name'] == 'talk.religion.misc') & (test_df['Predicted Name'] == 'alt.atheism')]\n",
        "       .sort_values(by=['Predicted Confidence'], ascending=False).head(5))\n",
        "res_df"
      ],
      "metadata": {
        "id": "316JMlLAFtGP"
      },
      "execution_count": null,
      "outputs": []
    },
    {
      "cell_type": "code",
      "source": [
        "unique_class_nums = label_map_df['Label Number'].values\n",
        "mnb_prediction_class_nums = [label_data_map[item] for item in mnb_predictions]\n",
        "meu.display_confusion_matrix_pretty(true_labels=test_label_nums,\n",
        "                                   predicted_labels=mnb_prediction_class_nums, classes=unique_class_nums)"
      ],
      "metadata": {
        "id": "EXZUeEp8FxZ4"
      },
      "execution_count": null,
      "outputs": []
    },
    {
      "cell_type": "code",
      "source": [],
      "metadata": {
        "id": "vd3cG2Z0Giz1"
      },
      "execution_count": null,
      "outputs": []
    }
  ]
}