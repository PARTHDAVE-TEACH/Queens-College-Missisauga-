{
  "nbformat": 4,
  "nbformat_minor": 0,
  "metadata": {
    "colab": {
      "provenance": []
    },
    "kernelspec": {
      "name": "python3",
      "display_name": "Python 3"
    },
    "language_info": {
      "name": "python"
    }
  },
  "cells": [
    {
      "cell_type": "code",
      "source": [
        "import nltk\n",
        "nltk.download('stopwords')"
      ],
      "metadata": {
        "colab": {
          "base_uri": "https://localhost:8080/"
        },
        "id": "jHmLtUyGC26z",
        "outputId": "ed9a12f3-c446-41ff-c1a2-0914828c3fad"
      },
      "execution_count": 5,
      "outputs": [
        {
          "output_type": "stream",
          "name": "stderr",
          "text": [
            "[nltk_data] Downloading package stopwords to /root/nltk_data...\n",
            "[nltk_data]   Unzipping corpora/stopwords.zip.\n"
          ]
        },
        {
          "output_type": "execute_result",
          "data": {
            "text/plain": [
              "True"
            ]
          },
          "metadata": {},
          "execution_count": 5
        }
      ]
    },
    {
      "cell_type": "code",
      "execution_count": 9,
      "metadata": {
        "id": "eHngo-oDCdiv"
      },
      "outputs": [],
      "source": [
        "from nltk.corpus import gutenberg\n",
        "import text_normalizer as tn\n",
        "import nltk\n",
        "from operator import itemgetter"
      ]
    },
    {
      "cell_type": "code",
      "source": [
        "nltk.download('gutenberg')"
      ],
      "metadata": {
        "colab": {
          "base_uri": "https://localhost:8080/"
        },
        "id": "7s5kaWkLDQvN",
        "outputId": "20bb1853-95b7-4254-86af-8911126f019d"
      },
      "execution_count": 11,
      "outputs": [
        {
          "output_type": "stream",
          "name": "stderr",
          "text": [
            "[nltk_data] Downloading package gutenberg to /root/nltk_data...\n",
            "[nltk_data]   Unzipping corpora/gutenberg.zip.\n"
          ]
        },
        {
          "output_type": "execute_result",
          "data": {
            "text/plain": [
              "True"
            ]
          },
          "metadata": {},
          "execution_count": 11
        }
      ]
    },
    {
      "cell_type": "code",
      "source": [
        "nltk.download('punkt')"
      ],
      "metadata": {
        "colab": {
          "base_uri": "https://localhost:8080/"
        },
        "id": "fsTs4gYZDWOD",
        "outputId": "ea6399bd-b052-4f0f-c6e9-adca299265a6"
      },
      "execution_count": 13,
      "outputs": [
        {
          "output_type": "stream",
          "name": "stderr",
          "text": [
            "[nltk_data] Downloading package punkt to /root/nltk_data...\n",
            "[nltk_data]   Unzipping tokenizers/punkt.zip.\n"
          ]
        },
        {
          "output_type": "execute_result",
          "data": {
            "text/plain": [
              "True"
            ]
          },
          "metadata": {},
          "execution_count": 13
        }
      ]
    },
    {
      "cell_type": "code",
      "source": [
        "# load corpus\n",
        "alice = gutenberg.sents(fileids='carroll-alice.txt')\n",
        "alice = [' '.join(ts) for ts in alice]\n",
        "norm_alice = list(filter(None, tn.normalize_corpus(alice, text_lemmatization=False)))"
      ],
      "metadata": {
        "id": "CWqe_q4qCj7T"
      },
      "execution_count": 14,
      "outputs": []
    },
    {
      "cell_type": "code",
      "source": [
        "alice"
      ],
      "metadata": {
        "colab": {
          "base_uri": "https://localhost:8080/"
        },
        "id": "p_m_vQ6ADXFH",
        "outputId": "f70e8c0a-0573-4c45-dd79-0b9ab9092ecc"
      },
      "execution_count": 15,
      "outputs": [
        {
          "output_type": "execute_result",
          "data": {
            "text/plain": [
              "[\"[ Alice ' s Adventures in Wonderland by Lewis Carroll 1865 ]\",\n",
              " 'CHAPTER I .',\n",
              " 'Down the Rabbit - Hole',\n",
              " \"Alice was beginning to get very tired of sitting by her sister on the bank , and of having nothing to do : once or twice she had peeped into the book her sister was reading , but it had no pictures or conversations in it , ' and what is the use of a book ,' thought Alice ' without pictures or conversation ?'\",\n",
              " 'So she was considering in her own mind ( as well as she could , for the hot day made her feel very sleepy and stupid ), whether the pleasure of making a daisy - chain would be worth the trouble of getting up and picking the daisies , when suddenly a White Rabbit with pink eyes ran close by her .',\n",
              " \"There was nothing so VERY remarkable in that ; nor did Alice think it so VERY much out of the way to hear the Rabbit say to itself , ' Oh dear !\",\n",
              " 'Oh dear !',\n",
              " \"I shall be late !'\",\n",
              " '( when she thought it over afterwards , it occurred to her that she ought to have wondered at this , but at the time it all seemed quite natural ); but when the Rabbit actually TOOK A WATCH OUT OF ITS WAISTCOAT - POCKET , and looked at it , and then hurried on , Alice started to her feet , for it flashed across her mind that she had never before seen a rabbit with either a waistcoat - pocket , or a watch to take out of it , and burning with curiosity , she ran across the field after it , and fortunately was just in time to see it pop down a large rabbit - hole under the hedge .',\n",
              " 'In another moment down went Alice after it , never once considering how in the world she was to get out again .',\n",
              " 'The rabbit - hole went straight on like a tunnel for some way , and then dipped suddenly down , so suddenly that Alice had not a moment to think about stopping herself before she found herself falling down a very deep well .',\n",
              " 'Either the well was very deep , or she fell very slowly , for she had plenty of time as she went down to look about her and to wonder what was going to happen next .',\n",
              " 'First , she tried to look down and make out what she was coming to , but it was too dark to see anything ; then she looked at the sides of the well , and noticed that they were filled with cupboards and book - shelves ; here and there she saw maps and pictures hung upon pegs .',\n",
              " \"She took down a jar from one of the shelves as she passed ; it was labelled ' ORANGE MARMALADE ', but to her great disappointment it was empty : she did not like to drop the jar for fear of killing somebody , so managed to put it into one of the cupboards as she fell past it .\",\n",
              " \"' Well !'\",\n",
              " \"thought Alice to herself , ' after such a fall as this , I shall think nothing of tumbling down stairs !\",\n",
              " \"How brave they ' ll all think me at home !\",\n",
              " \"Why , I wouldn ' t say anything about it , even if I fell off the top of the house !'\",\n",
              " '( Which was very likely true .)',\n",
              " 'Down , down , down .',\n",
              " 'Would the fall NEVER come to an end !',\n",
              " \"' I wonder how many miles I ' ve fallen by this time ?'\",\n",
              " 'she said aloud .',\n",
              " \"' I must be getting somewhere near the centre of the earth .\",\n",
              " \"Let me see : that would be four thousand miles down , I think --' ( for , you see , Alice had learnt several things of this sort in her lessons in the schoolroom , and though this was not a VERY good opportunity for showing off her knowledge , as there was no one to listen to her , still it was good practice to say it over ) '-- yes , that ' s about the right distance -- but then I wonder what Latitude or Longitude I ' ve got to ?'\",\n",
              " '( Alice had no idea what Latitude was , or Longitude either , but thought they were nice grand words to say .)',\n",
              " 'Presently she began again .',\n",
              " \"' I wonder if I shall fall right THROUGH the earth !\",\n",
              " \"How funny it ' ll seem to come out among the people that walk with their heads downward !\",\n",
              " \"The Antipathies , I think --' ( she was rather glad there WAS no one listening , this time , as it didn ' t sound at all the right word ) '-- but I shall have to ask them what the name of the country is , you know .\",\n",
              " \"Please , Ma ' am , is this New Zealand or Australia ?'\",\n",
              " \"( and she tried to curtsey as she spoke -- fancy CURTSEYING as you ' re falling through the air !\",\n",
              " 'Do you think you could manage it ?)',\n",
              " \"' And what an ignorant little girl she ' ll think me for asking !\",\n",
              " \"No , it ' ll never do to ask : perhaps I shall see it written up somewhere .'\",\n",
              " 'Down , down , down .',\n",
              " 'There was nothing else to do , so Alice soon began talking again .',\n",
              " \"' Dinah ' ll miss me very much to - night , I should think !'\",\n",
              " '( Dinah was the cat .)',\n",
              " \"' I hope they ' ll remember her saucer of milk at tea - time .\",\n",
              " 'Dinah my dear !',\n",
              " 'I wish you were down here with me !',\n",
              " \"There are no mice in the air , I ' m afraid , but you might catch a bat , and that ' s very like a mouse , you know .\",\n",
              " \"But do cats eat bats , I wonder ?'\",\n",
              " \"And here Alice began to get rather sleepy , and went on saying to herself , in a dreamy sort of way , ' Do cats eat bats ?\",\n",
              " \"Do cats eat bats ?'\",\n",
              " \"and sometimes , ' Do bats eat cats ?'\",\n",
              " \"for , you see , as she couldn ' t answer either question , it didn ' t much matter which way she put it .\",\n",
              " \"She felt that she was dozing off , and had just begun to dream that she was walking hand in hand with Dinah , and saying to her very earnestly , ' Now , Dinah , tell me the truth : did you ever eat a bat ?'\",\n",
              " 'when suddenly , thump !',\n",
              " 'thump !',\n",
              " 'down she came upon a heap of sticks and dry leaves , and the fall was over .',\n",
              " 'Alice was not a bit hurt , and she jumped up on to her feet in a moment : she looked up , but it was all dark overhead ; before her was another long passage , and the White Rabbit was still in sight , hurrying down it .',\n",
              " \"There was not a moment to be lost : away went Alice like the wind , and was just in time to hear it say , as it turned a corner , ' Oh my ears and whiskers , how late it ' s getting !'\",\n",
              " 'She was close behind it when she turned the corner , but the Rabbit was no longer to be seen : she found herself in a long , low hall , which was lit up by a row of lamps hanging from the roof .',\n",
              " 'There were doors all round the hall , but they were all locked ; and when Alice had been all the way down one side and up the other , trying every door , she walked sadly down the middle , wondering how she was ever to get out again .',\n",
              " \"Suddenly she came upon a little three - legged table , all made of solid glass ; there was nothing on it except a tiny golden key , and Alice ' s first thought was that it might belong to one of the doors of the hall ; but , alas !\",\n",
              " 'either the locks were too large , or the key was too small , but at any rate it would not open any of them .',\n",
              " 'However , on the second time round , she came upon a low curtain she had not noticed before , and behind it was a little door about fifteen inches high : she tried the little golden key in the lock , and to her great delight it fitted !',\n",
              " 'Alice opened the door and found that it led into a small passage , not much larger than a rat - hole : she knelt down and looked along the passage into the loveliest garden you ever saw .',\n",
              " \"How she longed to get out of that dark hall , and wander about among those beds of bright flowers and those cool fountains , but she could not even get her head through the doorway ; ' and even if my head would go through ,' thought poor Alice , ' it would be of very little use without my shoulders .\",\n",
              " 'Oh , how I wish I could shut up like a telescope !',\n",
              " \"I think I could , if I only know how to begin .'\",\n",
              " 'For , you see , so many out - of - the - way things had happened lately , that Alice had begun to think that very few things indeed were really impossible .',\n",
              " \"There seemed to be no use in waiting by the little door , so she went back to the table , half hoping she might find another key on it , or at any rate a book of rules for shutting people up like telescopes : this time she found a little bottle on it , (' which certainly was not here before ,' said Alice ,) and round the neck of the bottle was a paper label , with the words ' DRINK ME ' beautifully printed on it in large letters .\",\n",
              " \"It was all very well to say ' Drink me ,' but the wise little Alice was not going to do THAT in a hurry .\",\n",
              " '\\' No , I \\' ll look first ,\\' she said , \\' and see whether it \\' s marked \" poison \" or not \\'; for she had read several nice little histories about children who had got burnt , and eaten up by wild beasts and other unpleasant things , all because they WOULD not remember the simple rules their friends had taught them : such as , that a red - hot poker will burn you if you hold it too long ; and that if you cut your finger VERY deeply with a knife , it usually bleeds ; and she had never forgotten that , if you drink much from a bottle marked \\' poison ,\\' it is almost certain to disagree with you , sooner or later .',\n",
              " \"However , this bottle was NOT marked ' poison ,' so Alice ventured to taste it , and finding it very nice , ( it had , in fact , a sort of mixed flavour of cherry - tart , custard , pine - apple , roast turkey , toffee , and hot buttered toast ,) she very soon finished it off .\",\n",
              " '* * * * * * *',\n",
              " '* * * * * *',\n",
              " '* * * * * * *',\n",
              " \"' What a curious feeling !'\",\n",
              " \"said Alice ; ' I must be shutting up like a telescope .'\",\n",
              " 'And so it was indeed : she was now only ten inches high , and her face brightened up at the thought that she was now the right size for going through the little door into that lovely garden .',\n",
              " \"First , however , she waited for a few minutes to see if she was going to shrink any further : she felt a little nervous about this ; ' for it might end , you know ,' said Alice to herself , ' in my going out altogether , like a candle .\",\n",
              " \"I wonder what I should be like then ?'\",\n",
              " 'And she tried to fancy what the flame of a candle is like after the candle is blown out , for she could not remember ever having seen such a thing .',\n",
              " 'After a while , finding that nothing more happened , she decided on going into the garden at once ; but , alas for poor Alice !',\n",
              " 'when she got to the door , she found she had forgotten the little golden key , and when she went back to the table for it , she found she could not possibly reach it : she could see it quite plainly through the glass , and she tried her best to climb up one of the legs of the table , but it was too slippery ; and when she had tired herself out with trying , the poor little thing sat down and cried .',\n",
              " \"' Come , there ' s no use in crying like that !'\",\n",
              " \"said Alice to herself , rather sharply ; ' I advise you to leave off this minute !'\",\n",
              " 'She generally gave herself very good advice , ( though she very seldom followed it ), and sometimes she scolded herself so severely as to bring tears into her eyes ; and once she remembered trying to box her own ears for having cheated herself in a game of croquet she was playing against herself , for this curious child was very fond of pretending to be two people .',\n",
              " \"' But it ' s no use now ,' thought poor Alice , ' to pretend to be two people !\",\n",
              " \"Why , there ' s hardly enough of me left to make ONE respectable person !'\",\n",
              " \"Soon her eye fell on a little glass box that was lying under the table : she opened it , and found in it a very small cake , on which the words ' EAT ME ' were beautifully marked in currants .\",\n",
              " \"' Well , I ' ll eat it ,' said Alice , ' and if it makes me grow larger , I can reach the key ; and if it makes me grow smaller , I can creep under the door ; so either way I ' ll get into the garden , and I don ' t care which happens !'\",\n",
              " \"She ate a little bit , and said anxiously to herself , ' Which way ?\",\n",
              " 'Which way ?',\n",
              " \"', holding her hand on the top of her head to feel which way it was growing , and she was quite surprised to find that she remained the same size : to be sure , this generally happens when one eats cake , but Alice had got so much into the way of expecting nothing but out - of - the - way things to happen , that it seemed quite dull and stupid for life to go on in the common way .\",\n",
              " 'So she set to work , and very soon finished off the cake .',\n",
              " '* * * * * * *',\n",
              " '* * * * * *',\n",
              " '* * * * * * *',\n",
              " 'CHAPTER II .',\n",
              " 'The Pool of Tears',\n",
              " \"' Curiouser and curiouser !'\",\n",
              " \"cried Alice ( she was so much surprised , that for the moment she quite forgot how to speak good English ); ' now I ' m opening out like the largest telescope that ever was !\",\n",
              " \"Good - bye , feet !'\",\n",
              " '( for when she looked down at her feet , they seemed to be almost out of sight , they were getting so far off ).',\n",
              " \"' Oh , my poor little feet , I wonder who will put on your shoes and stockings for you now , dears ?\",\n",
              " \"I ' m sure _I_ shan ' t be able !\",\n",
              " \"I shall be a great deal too far off to trouble myself about you : you must manage the best way you can ;-- but I must be kind to them ,' thought Alice , ' or perhaps they won ' t walk the way I want to go !\",\n",
              " \"Let me see : I ' ll give them a new pair of boots every Christmas .'\",\n",
              " 'And she went on planning to herself how she would manage it .',\n",
              " \"' They must go by the carrier ,' she thought ; ' and how funny it ' ll seem , sending presents to one ' s own feet !\",\n",
              " 'And how odd the directions will look !',\n",
              " \"ALICE ' S RIGHT FOOT , ESQ .\",\n",
              " \"HEARTHRUG , NEAR THE FENDER , ( WITH ALICE ' S LOVE ).\",\n",
              " \"Oh dear , what nonsense I ' m talking !'\",\n",
              " 'Just then her head struck against the roof of the hall : in fact she was now more than nine feet high , and she at once took up the little golden key and hurried off to the garden door .',\n",
              " 'Poor Alice !',\n",
              " 'It was as much as she could do , lying down on one side , to look through into the garden with one eye ; but to get through was more hopeless than ever : she sat down and began to cry again .',\n",
              " \"' You ought to be ashamed of yourself ,' said Alice , ' a great girl like you ,' ( she might well say this ), ' to go on crying in this way !\",\n",
              " \"Stop this moment , I tell you !'\",\n",
              " 'But she went on all the same , shedding gallons of tears , until there was a large pool all round her , about four inches deep and reaching half down the hall .',\n",
              " 'After a time she heard a little pattering of feet in the distance , and she hastily dried her eyes to see what was coming .',\n",
              " \"It was the White Rabbit returning , splendidly dressed , with a pair of white kid gloves in one hand and a large fan in the other : he came trotting along in a great hurry , muttering to himself as he came , ' Oh !\",\n",
              " 'the Duchess , the Duchess !',\n",
              " 'Oh !',\n",
              " \"won ' t she be savage if I ' ve kept her waiting !'\",\n",
              " \"Alice felt so desperate that she was ready to ask help of any one ; so , when the Rabbit came near her , she began , in a low , timid voice , ' If you please , sir --' The Rabbit started violently , dropped the white kid gloves and the fan , and skurried away into the darkness as hard as he could go .\",\n",
              " \"Alice took up the fan and gloves , and , as the hall was very hot , she kept fanning herself all the time she went on talking : ' Dear , dear !\",\n",
              " 'How queer everything is to - day !',\n",
              " 'And yesterday things went on just as usual .',\n",
              " \"I wonder if I ' ve been changed in the night ?\",\n",
              " 'Let me think : was I the same when I got up this morning ?',\n",
              " 'I almost think I can remember feeling a little different .',\n",
              " \"But if I ' m not the same , the next question is , Who in the world am I ?\",\n",
              " \"Ah , THAT ' S the great puzzle !'\",\n",
              " 'And she began thinking over all the children she knew that were of the same age as herself , to see if she could have been changed for any of them .',\n",
              " \"' I ' m sure I ' m not Ada ,' she said , ' for her hair goes in such long ringlets , and mine doesn ' t go in ringlets at all ; and I ' m sure I can ' t be Mabel , for I know all sorts of things , and she , oh !\",\n",
              " 'she knows such a very little !',\n",
              " \"Besides , SHE ' S she , and I ' m I , and -- oh dear , how puzzling it all is !\",\n",
              " \"I ' ll try if I know all the things I used to know .\",\n",
              " 'Let me see : four times five is twelve , and four times six is thirteen , and four times seven is -- oh dear !',\n",
              " 'I shall never get to twenty at that rate !',\n",
              " \"However , the Multiplication Table doesn ' t signify : let ' s try Geography .\",\n",
              " \"London is the capital of Paris , and Paris is the capital of Rome , and Rome -- no , THAT ' S all wrong , I ' m certain !\",\n",
              " 'I must have been changed for Mabel !',\n",
              " 'I \\' ll try and say \" How doth the little --\"\\' and she crossed her hands on her lap as if she were saying lessons , and began to repeat it , but her voice sounded hoarse and strange , and the words did not come the same as they used to do :--',\n",
              " \"' How doth the little crocodile Improve his shining tail , And pour the waters of the Nile On every golden scale !\",\n",
              " \"' How cheerfully he seems to grin , How neatly spread his claws , And welcome little fishes in With gently smiling jaws !'\",\n",
              " \"' I ' m sure those are not the right words ,' said poor Alice , and her eyes filled with tears again as she went on , ' I must be Mabel after all , and I shall have to go and live in that poky little house , and have next to no toys to play with , and oh !\",\n",
              " 'ever so many lessons to learn !',\n",
              " \"No , I ' ve made up my mind about it ; if I ' m Mabel , I ' ll stay down here !\",\n",
              " 'It \\' ll be no use their putting their heads down and saying \" Come up again , dear !\"',\n",
              " 'I shall only look up and say \" Who am I then ?',\n",
              " 'Tell me that first , and then , if I like being that person , I \\' ll come up : if not , I \\' ll stay down here till I \\' m somebody else \"-- but , oh dear !\\'',\n",
              " \"cried Alice , with a sudden burst of tears , ' I do wish they WOULD put their heads down !\",\n",
              " \"I am so VERY tired of being all alone here !'\",\n",
              " \"As she said this she looked down at her hands , and was surprised to see that she had put on one of the Rabbit ' s little white kid gloves while she was talking .\",\n",
              " \"' How CAN I have done that ?'\",\n",
              " 'she thought .',\n",
              " \"' I must be growing small again .'\",\n",
              " 'She got up and went to the table to measure herself by it , and found that , as nearly as she could guess , she was now about two feet high , and was going on shrinking rapidly : she soon found out that the cause of this was the fan she was holding , and she dropped it hastily , just in time to avoid shrinking away altogether .',\n",
              " \"' That WAS a narrow escape !'\",\n",
              " \"said Alice , a good deal frightened at the sudden change , but very glad to find herself still in existence ; ' and now for the garden !'\",\n",
              " 'and she ran with all speed back to the little door : but , alas !',\n",
              " \"the little door was shut again , and the little golden key was lying on the glass table as before , ' and things are worse than ever ,' thought the poor child , ' for I never was so small as this before , never !\",\n",
              " \"And I declare it ' s too bad , that it is !'\",\n",
              " 'As she said these words her foot slipped , and in another moment , splash !',\n",
              " 'she was up to her chin in salt water .',\n",
              " \"Her first idea was that she had somehow fallen into the sea , ' and in that case I can go back by railway ,' she said to herself .\",\n",
              " '( Alice had been to the seaside once in her life , and had come to the general conclusion , that wherever you go to on the English coast you find a number of bathing machines in the sea , some children digging in the sand with wooden spades , then a row of lodging houses , and behind them a railway station .)',\n",
              " 'However , she soon made out that she was in the pool of tears which she had wept when she was nine feet high .',\n",
              " \"' I wish I hadn ' t cried so much !'\",\n",
              " 'said Alice , as she swam about , trying to find her way out .',\n",
              " \"' I shall be punished for it now , I suppose , by being drowned in my own tears !\",\n",
              " 'That WILL be a queer thing , to be sure !',\n",
              " \"However , everything is queer to - day .'\",\n",
              " 'Just then she heard something splashing about in the pool a little way off , and she swam nearer to make out what it was : at first she thought it must be a walrus or hippopotamus , but then she remembered how small she was now , and she soon made out that it was only a mouse that had slipped in like herself .',\n",
              " \"' Would it be of any use , now ,' thought Alice , ' to speak to this mouse ?\",\n",
              " \"Everything is so out - of - the - way down here , that I should think very likely it can talk : at any rate , there ' s no harm in trying .'\",\n",
              " \"So she began : ' O Mouse , do you know the way out of this pool ?\",\n",
              " \"I am very tired of swimming about here , O Mouse !'\",\n",
              " \"( Alice thought this must be the right way of speaking to a mouse : she had never done such a thing before , but she remembered having seen in her brother ' s Latin Grammar , ' A mouse -- of a mouse -- to a mouse -- a mouse -- O mouse !')\",\n",
              " 'The Mouse looked at her rather inquisitively , and seemed to her to wink with one of its little eyes , but it said nothing .',\n",
              " \"' Perhaps it doesn ' t understand English ,' thought Alice ; ' I daresay it ' s a French mouse , come over with William the Conqueror .'\",\n",
              " '( For , with all her knowledge of history , Alice had no very clear notion how long ago anything had happened .)',\n",
              " \"So she began again : ' Ou est ma chatte ?'\",\n",
              " 'which was the first sentence in her French lesson - book .',\n",
              " 'The Mouse gave a sudden leap out of the water , and seemed to quiver all over with fright .',\n",
              " \"' Oh , I beg your pardon !'\",\n",
              " \"cried Alice hastily , afraid that she had hurt the poor animal ' s feelings .\",\n",
              " \"' I quite forgot you didn ' t like cats .'\",\n",
              " \"' Not like cats !'\",\n",
              " 'cried the Mouse , in a shrill , passionate voice .',\n",
              " \"' Would YOU like cats if you were me ?'\",\n",
              " \"' Well , perhaps not ,' said Alice in a soothing tone : ' don ' t be angry about it .\",\n",
              " \"And yet I wish I could show you our cat Dinah : I think you ' d take a fancy to cats if you could only see her .\",\n",
              " \"She is such a dear quiet thing ,' Alice went on , half to herself , as she swam lazily about in the pool , ' and she sits purring so nicely by the fire , licking her paws and washing her face -- and she is such a nice soft thing to nurse -- and she ' s such a capital one for catching mice -- oh , I beg your pardon !'\",\n",
              " 'cried Alice again , for this time the Mouse was bristling all over , and she felt certain it must be really offended .',\n",
              " \"' We won ' t talk about her any more if you ' d rather not .'\",\n",
              " \"' We indeed !'\",\n",
              " 'cried the Mouse , who was trembling down to the end of his tail .',\n",
              " \"' As if I would talk on such a subject !\",\n",
              " 'Our family always HATED cats : nasty , low , vulgar things !',\n",
              " \"Don ' t let me hear the name again !'\",\n",
              " \"' I won ' t indeed !'\",\n",
              " 'said Alice , in a great hurry to change the subject of conversation .',\n",
              " \"' Are you -- are you fond -- of -- of dogs ?'\",\n",
              " \"The Mouse did not answer , so Alice went on eagerly : ' There is such a nice little dog near our house I should like to show you !\",\n",
              " 'A little bright - eyed terrier , you know , with oh , such long curly brown hair !',\n",
              " \"And it ' ll fetch things when you throw them , and it ' ll sit up and beg for its dinner , and all sorts of things -- I can ' t remember half of them -- and it belongs to a farmer , you know , and he says it ' s so useful , it ' s worth a hundred pounds !\",\n",
              " \"He says it kills all the rats and -- oh dear !'\",\n",
              " \"cried Alice in a sorrowful tone , ' I ' m afraid I ' ve offended it again !'\",\n",
              " 'For the Mouse was swimming away from her as hard as it could go , and making quite a commotion in the pool as it went .',\n",
              " \"So she called softly after it , ' Mouse dear !\",\n",
              " \"Do come back again , and we won ' t talk about cats or dogs either , if you don ' t like them !'\",\n",
              " \"When the Mouse heard this , it turned round and swam slowly back to her : its face was quite pale ( with passion , Alice thought ), and it said in a low trembling voice , ' Let us get to the shore , and then I ' ll tell you my history , and you ' ll understand why it is I hate cats and dogs .'\",\n",
              " 'It was high time to go , for the pool was getting quite crowded with the birds and animals that had fallen into it : there were a Duck and a Dodo , a Lory and an Eaglet , and several other curious creatures .',\n",
              " 'Alice led the way , and the whole party swam to the shore .',\n",
              " 'CHAPTER III .',\n",
              " 'A Caucus - Race and a Long Tale',\n",
              " 'They were indeed a queer - looking party that assembled on the bank -- the birds with draggled feathers , the animals with their fur clinging close to them , and all dripping wet , cross , and uncomfortable .',\n",
              " 'The first question of course was , how to get dry again : they had a consultation about this , and after a few minutes it seemed quite natural to Alice to find herself talking familiarly with them , as if she had known them all her life .',\n",
              " \"Indeed , she had quite a long argument with the Lory , who at last turned sulky , and would only say , ' I am older than you , and must know better '; and this Alice would not allow without knowing how old it was , and , as the Lory positively refused to tell its age , there was no more to be said .\",\n",
              " \"At last the Mouse , who seemed to be a person of authority among them , called out , ' Sit down , all of you , and listen to me !\",\n",
              " \"I ' LL soon make you dry enough !'\",\n",
              " 'They all sat down at once , in a large ring , with the Mouse in the middle .',\n",
              " 'Alice kept her eyes anxiously fixed on it , for she felt sure she would catch a bad cold if she did not get dry very soon .',\n",
              " \"' Ahem !'\",\n",
              " \"said the Mouse with an important air , ' are you all ready ?\",\n",
              " 'This is the driest thing I know .',\n",
              " 'Silence all round , if you please !',\n",
              " '\" William the Conqueror , whose cause was favoured by the pope , was soon submitted to by the English , who wanted leaders , and had been of late much accustomed to usurpation and conquest .',\n",
              " 'Edwin and Morcar , the earls of Mercia and Northumbria --\"\\'',\n",
              " \"' Ugh !'\",\n",
              " 'said the Lory , with a shiver .',\n",
              " \"' I beg your pardon !'\",\n",
              " \"said the Mouse , frowning , but very politely : ' Did you speak ?'\",\n",
              " \"' Not I !'\",\n",
              " 'said the Lory hastily .',\n",
              " \"' I thought you did ,' said the Mouse . '\",\n",
              " '-- I proceed .',\n",
              " '\" Edwin and Morcar , the earls of Mercia and Northumbria , declared for him : and even Stigand , the patriotic archbishop of Canterbury , found it advisable --\"\\'',\n",
              " \"' Found WHAT ?'\",\n",
              " 'said the Duck .',\n",
              " '\\' Found IT ,\\' the Mouse replied rather crossly : \\' of course you know what \" it \" means .\\'',\n",
              " '\\' I know what \" it \" means well enough , when I find a thing ,\\' said the Duck : \\' it \\' s generally a frog or a worm .',\n",
              " \"The question is , what did the archbishop find ?'\",\n",
              " 'The Mouse did not notice this question , but hurriedly went on , \\'\"-- found it advisable to go with Edgar Atheling to meet William and offer him the crown .',\n",
              " \"William ' s conduct at first was moderate .\",\n",
              " 'But the insolence of his Normans --\" How are you getting on now , my dear ?\\'',\n",
              " 'it continued , turning to Alice as it spoke .',\n",
              " \"' As wet as ever ,' said Alice in a melancholy tone : ' it doesn ' t seem to dry me at all .'\",\n",
              " \"' In that case ,' said the Dodo solemnly , rising to its feet , ' I move that the meeting adjourn , for the immediate adoption of more energetic remedies --'\",\n",
              " \"' Speak English !'\",\n",
              " 'said the Eaglet .',\n",
              " \"' I don ' t know the meaning of half those long words , and , what ' s more , I don ' t believe you do either !'\",\n",
              " 'And the Eaglet bent down its head to hide a smile : some of the other birds tittered audibly .',\n",
              " \"' What I was going to say ,' said the Dodo in an offended tone , ' was , that the best thing to get us dry would be a Caucus - race .'\",\n",
              " \"' What IS a Caucus - race ?'\",\n",
              " 'said Alice ; not that she wanted much to know , but the Dodo had paused as if it thought that SOMEBODY ought to speak , and no one else seemed inclined to say anything .',\n",
              " \"' Why ,' said the Dodo , ' the best way to explain it is to do it .'\",\n",
              " '( And , as you might like to try the thing yourself , some winter day , I will tell you how the Dodo managed it .)',\n",
              " \"First it marked out a race - course , in a sort of circle , (' the exact shape doesn ' t matter ,' it said ,) and then all the party were placed along the course , here and there .\",\n",
              " \"There was no ' One , two , three , and away ,' but they began running when they liked , and left off when they liked , so that it was not easy to know when the race was over .\",\n",
              " \"However , when they had been running half an hour or so , and were quite dry again , the Dodo suddenly called out ' The race is over !'\",\n",
              " \"and they all crowded round it , panting , and asking , ' But who has won ?'\",\n",
              " 'This question the Dodo could not answer without a great deal of thought , and it sat for a long time with one finger pressed upon its forehead ( the position in which you usually see Shakespeare , in the pictures of him ), while the rest waited in silence .',\n",
              " \"At last the Dodo said , ' EVERYBODY has won , and all must have prizes .'\",\n",
              " \"' But who is to give the prizes ?'\",\n",
              " 'quite a chorus of voices asked .',\n",
              " \"' Why , SHE , of course ,' said the Dodo , pointing to Alice with one finger ; and the whole party at once crowded round her , calling out in a confused way , ' Prizes !\",\n",
              " \"Prizes !'\",\n",
              " 'Alice had no idea what to do , and in despair she put her hand in her pocket , and pulled out a box of comfits , ( luckily the salt water had not got into it ), and handed them round as prizes .',\n",
              " 'There was exactly one a - piece all round .',\n",
              " \"' But she must have a prize herself , you know ,' said the Mouse .\",\n",
              " \"' Of course ,' the Dodo replied very gravely .\",\n",
              " \"' What else have you got in your pocket ?'\",\n",
              " 'he went on , turning to Alice .',\n",
              " \"' Only a thimble ,' said Alice sadly .\",\n",
              " \"' Hand it over here ,' said the Dodo .\",\n",
              " \"Then they all crowded round her once more , while the Dodo solemnly presented the thimble , saying ' We beg your acceptance of this elegant thimble '; and , when it had finished this short speech , they all cheered .\",\n",
              " 'Alice thought the whole thing very absurd , but they all looked so grave that she did not dare to laugh ; and , as she could not think of anything to say , she simply bowed , and took the thimble , looking as solemn as she could .',\n",
              " 'The next thing was to eat the comfits : this caused some noise and confusion , as the large birds complained that they could not taste theirs , and the small ones choked and had to be patted on the back .',\n",
              " 'However , it was over at last , and they sat down again in a ring , and begged the Mouse to tell them something more .',\n",
              " \"' You promised to tell me your history , you know ,' said Alice , ' and why it is you hate -- C and D ,' she added in a whisper , half afraid that it would be offended again .\",\n",
              " \"' Mine is a long and a sad tale !'\",\n",
              " 'said the Mouse , turning to Alice , and sighing .',\n",
              " \"' It IS a long tail , certainly ,' said Alice , looking down with wonder at the Mouse ' s tail ; ' but why do you call it sad ?'\",\n",
              " 'And she kept on puzzling about it while the Mouse was speaking , so that her idea of the tale was something like this :--',\n",
              " '\\' Fury said to a mouse , That he met in the house , \" Let us both go to law : I will prosecute YOU .-- Come , I \\' ll take no denial ; We must have a trial : For really this morning I \\' ve nothing to do .\"',\n",
              " 'Said the mouse to the cur , \" Such a trial , dear Sir , With no jury or judge , would be wasting our breath .\"',\n",
              " '\" I \\' ll be judge , I \\' ll be jury ,\" Said cunning old Fury : \" I \\' ll try the whole cause , and condemn you to death .\"\\'',\n",
              " \"' You are not attending !'\",\n",
              " 'said the Mouse to Alice severely .',\n",
              " \"' What are you thinking of ?'\",\n",
              " \"' I beg your pardon ,' said Alice very humbly : ' you had got to the fifth bend , I think ?'\",\n",
              " \"' I had NOT !'\",\n",
              " 'cried the Mouse , sharply and very angrily .',\n",
              " \"' A knot !'\",\n",
              " 'said Alice , always ready to make herself useful , and looking anxiously about her .',\n",
              " \"' Oh , do let me help to undo it !'\",\n",
              " \"' I shall do nothing of the sort ,' said the Mouse , getting up and walking away .\",\n",
              " \"' You insult me by talking such nonsense !'\",\n",
              " \"' I didn ' t mean it !'\",\n",
              " 'pleaded poor Alice .',\n",
              " \"' But you ' re so easily offended , you know !'\",\n",
              " 'The Mouse only growled in reply .',\n",
              " \"' Please come back and finish your story !'\",\n",
              " \"Alice called after it ; and the others all joined in chorus , ' Yes , please do !'\",\n",
              " 'but the Mouse only shook its head impatiently , and walked a little quicker .',\n",
              " \"' What a pity it wouldn ' t stay !'\",\n",
              " \"sighed the Lory , as soon as it was quite out of sight ; and an old Crab took the opportunity of saying to her daughter ' Ah , my dear !\",\n",
              " \"Let this be a lesson to you never to lose YOUR temper !'\",\n",
              " \"' Hold your tongue , Ma !'\",\n",
              " 'said the young Crab , a little snappishly .',\n",
              " \"' You ' re enough to try the patience of an oyster !'\",\n",
              " \"' I wish I had our Dinah here , I know I do !'\",\n",
              " 'said Alice aloud , addressing nobody in particular .',\n",
              " \"' She ' d soon fetch it back !'\",\n",
              " \"' And who is Dinah , if I might venture to ask the question ?'\",\n",
              " 'said the Lory .',\n",
              " \"Alice replied eagerly , for she was always ready to talk about her pet : ' Dinah ' s our cat .\",\n",
              " \"And she ' s such a capital one for catching mice you can ' t think !\",\n",
              " 'And oh , I wish you could see her after the birds !',\n",
              " \"Why , she ' ll eat a little bird as soon as look at it !'\",\n",
              " 'This speech caused a remarkable sensation among the party .',\n",
              " \"Some of the birds hurried off at once : one old Magpie began wrapping itself up very carefully , remarking , ' I really must be getting home ; the night - air doesn ' t suit my throat !'\",\n",
              " \"and a Canary called out in a trembling voice to its children , ' Come away , my dears !\",\n",
              " \"It ' s high time you were all in bed !'\",\n",
              " 'On various pretexts they all moved off , and Alice was soon left alone .',\n",
              " \"' I wish I hadn ' t mentioned Dinah !'\",\n",
              " 'she said to herself in a melancholy tone .',\n",
              " \"' Nobody seems to like her , down here , and I ' m sure she ' s the best cat in the world !\",\n",
              " 'Oh , my dear Dinah !',\n",
              " \"I wonder if I shall ever see you any more !'\",\n",
              " 'And here poor Alice began to cry again , for she felt very lonely and low - spirited .',\n",
              " 'In a little while , however , she again heard a little pattering of footsteps in the distance , and she looked up eagerly , half hoping that the Mouse had changed his mind , and was coming back to finish his story .',\n",
              " 'CHAPTER IV .',\n",
              " 'The Rabbit Sends in a Little Bill',\n",
              " \"It was the White Rabbit , trotting slowly back again , and looking anxiously about as it went , as if it had lost something ; and she heard it muttering to itself ' The Duchess !\",\n",
              " 'The Duchess !',\n",
              " 'Oh my dear paws !',\n",
              " 'Oh my fur and whiskers !',\n",
              " \"She ' ll get me executed , as sure as ferrets are ferrets !\",\n",
              " \"Where CAN I have dropped them , I wonder ?'\",\n",
              " 'Alice guessed in a moment that it was looking for the fan and the pair of white kid gloves , and she very good - naturedly began hunting about for them , but they were nowhere to be seen -- everything seemed to have changed since her swim in the pool , and the great hall , with the glass table and the little door , had vanished completely .',\n",
              " \"Very soon the Rabbit noticed Alice , as she went hunting about , and called out to her in an angry tone , ' Why , Mary Ann , what ARE you doing out here ?\",\n",
              " 'Run home this moment , and fetch me a pair of gloves and a fan !',\n",
              " \"Quick , now !'\",\n",
              " 'And Alice was so much frightened that she ran off at once in the direction it pointed to , without trying to explain the mistake it had made .',\n",
              " \"' He took me for his housemaid ,' she said to herself as she ran .\",\n",
              " \"' How surprised he ' ll be when he finds out who I am !\",\n",
              " \"But I ' d better take him his fan and gloves -- that is , if I can find them .'\",\n",
              " \"As she said this , she came upon a neat little house , on the door of which was a bright brass plate with the name ' W .\",\n",
              " \"RABBIT ' engraved upon it .\",\n",
              " 'She went in without knocking , and hurried upstairs , in great fear lest she should meet the real Mary Ann , and be turned out of the house before she had found the fan and gloves .',\n",
              " \"' How queer it seems ,' Alice said to herself , ' to be going messages for a rabbit !\",\n",
              " \"I suppose Dinah ' ll be sending me on messages next !'\",\n",
              " 'And she began fancying the sort of thing that would happen : \\'\" Miss Alice !',\n",
              " 'Come here directly , and get ready for your walk !\"',\n",
              " '\" Coming in a minute , nurse !',\n",
              " 'But I \\' ve got to see that the mouse doesn \\' t get out .\"',\n",
              " \"Only I don ' t think ,' Alice went on , ' that they ' d let Dinah stop in the house if it began ordering people about like that !'\",\n",
              " 'By this time she had found her way into a tidy little room with a table in the window , and on it ( as she had hoped ) a fan and two or three pairs of tiny white kid gloves : she took up the fan and a pair of the gloves , and was just going to leave the room , when her eye fell upon a little bottle that stood near the looking - glass .',\n",
              " \"There was no label this time with the words ' DRINK ME ,' but nevertheless she uncorked it and put it to her lips .\",\n",
              " \"' I know SOMETHING interesting is sure to happen ,' she said to herself , ' whenever I eat or drink anything ; so I ' ll just see what this bottle does .\",\n",
              " \"I do hope it ' ll make me grow large again , for really I ' m quite tired of being such a tiny little thing !'\",\n",
              " 'It did so indeed , and much sooner than she had expected : before she had drunk half the bottle , she found her head pressing against the ceiling , and had to stoop to save her neck from being broken .',\n",
              " \"She hastily put down the bottle , saying to herself ' That ' s quite enough -- I hope I shan ' t grow any more -- As it is , I can ' t get out at the door -- I do wish I hadn ' t drunk quite so much !'\",\n",
              " 'Alas !',\n",
              " 'it was too late to wish that !',\n",
              " 'She went on growing , and growing , and very soon had to kneel down on the floor : in another minute there was not even room for this , and she tried the effect of lying down with one elbow against the door , and the other arm curled round her head .',\n",
              " \"Still she went on growing , and , as a last resource , she put one arm out of the window , and one foot up the chimney , and said to herself ' Now I can do no more , whatever happens .\",\n",
              " \"What WILL become of me ?'\",\n",
              " 'Luckily for Alice , the little magic bottle had now had its full effect , and she grew no larger : still it was very uncomfortable , and , as there seemed to be no sort of chance of her ever getting out of the room again , no wonder she felt unhappy .',\n",
              " \"' It was much pleasanter at home ,' thought poor Alice , ' when one wasn ' t always growing larger and smaller , and being ordered about by mice and rabbits .\",\n",
              " \"I almost wish I hadn ' t gone down that rabbit - hole -- and yet -- and yet -- it ' s rather curious , you know , this sort of life !\",\n",
              " 'I do wonder what CAN have happened to me !',\n",
              " 'When I used to read fairy - tales , I fancied that kind of thing never happened , and now here I am in the middle of one !',\n",
              " 'There ought to be a book written about me , that there ought !',\n",
              " \"And when I grow up , I ' ll write one -- but I ' m grown up now ,' she added in a sorrowful tone ; ' at least there ' s no room to grow up any more HERE .'\",\n",
              " \"' But then ,' thought Alice , ' shall I NEVER get any older than I am now ?\",\n",
              " \"That ' ll be a comfort , one way -- never to be an old woman -- but then -- always to have lessons to learn !\",\n",
              " \"Oh , I shouldn ' t like THAT !'\",\n",
              " \"' Oh , you foolish Alice !'\",\n",
              " 'she answered herself .',\n",
              " \"' How can you learn lessons in here ?\",\n",
              " \"Why , there ' s hardly room for YOU , and no room at all for any lesson - books !'\",\n",
              " 'And so she went on , taking first one side and then the other , and making quite a conversation of it altogether ; but after a few minutes she heard a voice outside , and stopped to listen .',\n",
              " \"' Mary Ann !\",\n",
              " \"Mary Ann !'\",\n",
              " 'said the voice .',\n",
              " \"' Fetch me my gloves this moment !'\",\n",
              " 'Then came a little pattering of feet on the stairs .',\n",
              " 'Alice knew it was the Rabbit coming to look for her , and she trembled till she shook the house , quite forgetting that she was now about a thousand times as large as the Rabbit , and had no reason to be afraid of it .',\n",
              " \"Presently the Rabbit came up to the door , and tried to open it ; but , as the door opened inwards , and Alice ' s elbow was pressed hard against it , that attempt proved a failure .\",\n",
              " \"Alice heard it say to itself ' Then I ' ll go round and get in at the window .'\",\n",
              " \"' THAT you won ' t ' thought Alice , and , after waiting till she fancied she heard the Rabbit just under the window , she suddenly spread out her hand , and made a snatch in the air .\",\n",
              " 'She did not get hold of anything , but she heard a little shriek and a fall , and a crash of broken glass , from which she concluded that it was just possible it had fallen into a cucumber - frame , or something of the sort .',\n",
              " \"Next came an angry voice -- the Rabbit ' s --' Pat !\",\n",
              " 'Pat !',\n",
              " \"Where are you ?'\",\n",
              " \"And then a voice she had never heard before , ' Sure then I ' m here !\",\n",
              " \"Digging for apples , yer honour !'\",\n",
              " \"' Digging for apples , indeed !'\",\n",
              " 'said the Rabbit angrily .',\n",
              " \"' Here !\",\n",
              " \"Come and help me out of THIS !'\",\n",
              " '( Sounds of more broken glass .)',\n",
              " \"' Now tell me , Pat , what ' s that in the window ?'\",\n",
              " \"' Sure , it ' s an arm , yer honour !'\",\n",
              " \"( He pronounced it ' arrum .')\",\n",
              " \"' An arm , you goose !\",\n",
              " 'Who ever saw one that size ?',\n",
              " \"Why , it fills the whole window !'\",\n",
              " \"' Sure , it does , yer honour : but it ' s an arm for all that .'\",\n",
              " \"' Well , it ' s got no business there , at any rate : go and take it away !'\",\n",
              " \"There was a long silence after this , and Alice could only hear whispers now and then ; such as , ' Sure , I don ' t like it , yer honour , at all , at all !'\",\n",
              " \"' Do as I tell you , you coward !'\",\n",
              " 'and at last she spread out her hand again , and made another snatch in the air .',\n",
              " 'This time there were TWO little shrieks , and more sounds of broken glass .',\n",
              " \"' What a number of cucumber - frames there must be !'\",\n",
              " 'thought Alice .',\n",
              " \"' I wonder what they ' ll do next !\",\n",
              " 'As for pulling me out of the window , I only wish they COULD !',\n",
              " \"I ' m sure I don ' t want to stay in here any longer !'\",\n",
              " \"She waited for some time without hearing anything more : at last came a rumbling of little cartwheels , and the sound of a good many voices all talking together : she made out the words : ' Where ' s the other ladder ?-- Why , I hadn ' t to bring but one ; Bill ' s got the other -- Bill !\",\n",
              " \"fetch it here , lad !-- Here , put ' em up at this corner -- No , tie ' em together first -- they don ' t reach half high enough yet -- Oh !\",\n",
              " \"they ' ll do well enough ; don ' t be particular -- Here , Bill !\",\n",
              " \"catch hold of this rope -- Will the roof bear ?-- Mind that loose slate -- Oh , it ' s coming down !\",\n",
              " \"Heads below !'\",\n",
              " \"( a loud crash )--' Now , who did that ?-- It was Bill , I fancy -- Who ' s to go down the chimney ?-- Nay , I shan ' t !\",\n",
              " \"YOU do it !-- That I won ' t , then !-- Bill ' s to go down -- Here , Bill !\",\n",
              " \"the master says you ' re to go down the chimney !'\",\n",
              " \"' Oh !\",\n",
              " \"So Bill ' s got to come down the chimney , has he ?'\",\n",
              " 'said Alice to herself .',\n",
              " \"' Shy , they seem to put everything upon Bill !\",\n",
              " \"I wouldn ' t be in Bill ' s place for a good deal : this fireplace is narrow , to be sure ; but I THINK I can kick a little !'\",\n",
              " \"She drew her foot as far down the chimney as she could , and waited till she heard a little animal ( she couldn ' t guess of what sort it was ) scratching and scrambling about in the chimney close above her : then , saying to herself ' This is Bill ,' she gave one sharp kick , and waited to see what would happen next .\",\n",
              " \"The first thing she heard was a general chorus of ' There goes Bill !'\",\n",
              " \"then the Rabbit ' s voice along --' Catch him , you by the hedge !'\",\n",
              " \"then silence , and then another confusion of voices --' Hold up his head -- Brandy now -- Don ' t choke him -- How was it , old fellow ?\",\n",
              " 'What happened to you ?',\n",
              " \"Tell us all about it !'\",\n",
              " \"Last came a little feeble , squeaking voice , (' That ' s Bill ,' thought Alice ,) ' Well , I hardly know -- No more , thank ye ; I ' m better now -- but I ' m a deal too flustered to tell you -- all I know is , something comes at me like a Jack - in - the - box , and up I goes like a sky - rocket !'\",\n",
              " \"' So you did , old fellow !'\",\n",
              " 'said the others .',\n",
              " \"' We must burn the house down !'\",\n",
              " \"said the Rabbit ' s voice ; and Alice called out as loud as she could , ' If you do .\",\n",
              " \"I ' ll set Dinah at you !'\",\n",
              " \"There was a dead silence instantly , and Alice thought to herself , ' I wonder what they WILL do next !\",\n",
              " \"If they had any sense , they ' d take the roof off .'\",\n",
              " \"After a minute or two , they began moving about again , and Alice heard the Rabbit say , ' A barrowful will do , to begin with .'\",\n",
              " \"' A barrowful of WHAT ?'\",\n",
              " 'thought Alice ; but she had not long to doubt , for the next moment a shower of little pebbles came rattling in at the window , and some of them hit her in the face .',\n",
              " \"' I ' ll put a stop to this ,' she said to herself , and shouted out , ' You ' d better not do that again !'\",\n",
              " 'which produced another dead silence .',\n",
              " 'Alice noticed with some surprise that the pebbles were all turning into little cakes as they lay on the floor , and a bright idea came into her head .',\n",
              " \"' If I eat one of these cakes ,' she thought , ' it ' s sure to make SOME change in my size ; and as it can ' t possibly make me larger , it must make me smaller , I suppose .'\",\n",
              " 'So she swallowed one of the cakes , and was delighted to find that she began shrinking directly .',\n",
              " 'As soon as she was small enough to get through the door , she ran out of the house , and found quite a crowd of little animals and birds waiting outside .',\n",
              " 'The poor little Lizard , Bill , was in the middle , being held up by two guinea - pigs , who were giving it something out of a bottle .',\n",
              " 'They all made a rush at Alice the moment she appeared ; but she ran off as hard as she could , and soon found herself safe in a thick wood .',\n",
              " \"' The first thing I ' ve got to do ,' said Alice to herself , as she wandered about in the wood , ' is to grow to my right size again ; and the second thing is to find my way into that lovely garden .\",\n",
              " \"I think that will be the best plan .'\",\n",
              " 'It sounded an excellent plan , no doubt , and very neatly and simply arranged ; the only difficulty was , that she had not the smallest idea how to set about it ; and while she was peering about anxiously among the trees , a little sharp bark just over her head made her look up in a great hurry .',\n",
              " 'An enormous puppy was looking down at her with large round eyes , and feebly stretching out one paw , trying to touch her .',\n",
              " \"' Poor little thing !'\",\n",
              " 'said Alice , in a coaxing tone , and she tried hard to whistle to it ; but she was terribly frightened all the time at the thought that it might be hungry , in which case it would be very likely to eat her up in spite of all her coaxing .',\n",
              " 'Hardly knowing what she did , she picked up a little bit of stick , and held it out to the puppy ; whereupon the puppy jumped into the air off all its feet at once , with a yelp of delight , and rushed at the stick , and made believe to worry it ; then Alice dodged behind a great thistle , to keep herself from being run over ; and the moment she appeared on the other side , the puppy made another rush at the stick , and tumbled head over heels in its hurry to get hold of it ; then Alice , thinking it was very like having a game of play with a cart - horse , and expecting every moment to be trampled under its feet , ran round the thistle again ; then the puppy began a series of short charges at the stick , running a very little way forwards each time and a long way back , and barking hoarsely all the while , till at last it sat down a good way off , panting , with its tongue hanging out of its mouth , and its great eyes half shut .',\n",
              " \"This seemed to Alice a good opportunity for making her escape ; so she set off at once , and ran till she was quite tired and out of breath , and till the puppy ' s bark sounded quite faint in the distance .\",\n",
              " \"' And yet what a dear little puppy it was !'\",\n",
              " \"said Alice , as she leant against a buttercup to rest herself , and fanned herself with one of the leaves : ' I should have liked teaching it tricks very much , if -- if I ' d only been the right size to do it !\",\n",
              " 'Oh dear !',\n",
              " \"I ' d nearly forgotten that I ' ve got to grow up again !\",\n",
              " 'Let me see -- how IS it to be managed ?',\n",
              " \"I suppose I ought to eat or drink something or other ; but the great question is , what ?'\",\n",
              " 'The great question certainly was , what ?',\n",
              " 'Alice looked all round her at the flowers and the blades of grass , but she did not see anything that looked like the right thing to eat or drink under the circumstances .',\n",
              " 'There was a large mushroom growing near her , about the same height as herself ; and when she had looked under it , and on both sides of it , and behind it , it occurred to her that she might as well look and see what was on the top of it .',\n",
              " 'She stretched herself up on tiptoe , and peeped over the edge of the mushroom , and her eyes immediately met those of a large caterpillar , that was sitting on the top with its arms folded , quietly smoking a long hookah , and taking not the smallest notice of her or of anything else .',\n",
              " 'CHAPTER V . Advice from a Caterpillar',\n",
              " 'The Caterpillar and Alice looked at each other for some time in silence : at last the Caterpillar took the hookah out of its mouth , and addressed her in a languid , sleepy voice .',\n",
              " \"' Who are YOU ?'\",\n",
              " 'said the Caterpillar .',\n",
              " 'This was not an encouraging opening for a conversation .',\n",
              " \"Alice replied , rather shyly , ' I -- I hardly know , sir , just at present -- at least I know who I WAS when I got up this morning , but I think I must have been changed several times since then .'\",\n",
              " \"' What do you mean by that ?'\",\n",
              " 'said the Caterpillar sternly .',\n",
              " \"' Explain yourself !'\",\n",
              " \"' I can ' t explain MYSELF , I ' m afraid , sir ' said Alice , ' because I ' m not myself , you see .'\",\n",
              " \"' I don ' t see ,' said the Caterpillar .\",\n",
              " \"' I ' m afraid I can ' t put it more clearly ,' Alice replied very politely , ' for I can ' t understand it myself to begin with ; and being so many different sizes in a day is very confusing .'\",\n",
              " \"' It isn ' t ,' said the Caterpillar .\",\n",
              " \"' Well , perhaps you haven ' t found it so yet ,' said Alice ; ' but when you have to turn into a chrysalis -- you will some day , you know -- and then after that into a butterfly , I should think you ' ll feel it a little queer , won ' t you ?'\",\n",
              " \"' Not a bit ,' said the Caterpillar .\",\n",
              " \"' Well , perhaps your feelings may be different ,' said Alice ; ' all I know is , it would feel very queer to ME .'\",\n",
              " \"' You !'\",\n",
              " 'said the Caterpillar contemptuously .',\n",
              " \"' Who are YOU ?'\",\n",
              " 'Which brought them back again to the beginning of the conversation .',\n",
              " \"Alice felt a little irritated at the Caterpillar ' s making such VERY short remarks , and she drew herself up and said , very gravely , ' I think , you ought to tell me who YOU are , first .'\",\n",
              " \"' Why ?'\",\n",
              " 'said the Caterpillar .',\n",
              " 'Here was another puzzling question ; and as Alice could not think of any good reason , and as the Caterpillar seemed to be in a VERY unpleasant state of mind , she turned away .',\n",
              " \"' Come back !'\",\n",
              " 'the Caterpillar called after her .',\n",
              " \"' I ' ve something important to say !'\",\n",
              " 'This sounded promising , certainly : Alice turned and came back again .',\n",
              " \"' Keep your temper ,' said the Caterpillar .\",\n",
              " \"' Is that all ?'\",\n",
              " 'said Alice , swallowing down her anger as well as she could .',\n",
              " \"' No ,' said the Caterpillar .\",\n",
              " 'Alice thought she might as well wait , as she had nothing else to do , and perhaps after all it might tell her something worth hearing .',\n",
              " \"For some minutes it puffed away without speaking , but at last it unfolded its arms , took the hookah out of its mouth again , and said , ' So you think you ' re changed , do you ?'\",\n",
              " \"' I ' m afraid I am , sir ,' said Alice ; ' I can ' t remember things as I used -- and I don ' t keep the same size for ten minutes together !'\",\n",
              " \"' Can ' t remember WHAT things ?'\",\n",
              " 'said the Caterpillar .',\n",
              " '\\' Well , I \\' ve tried to say \" HOW DOTH THE LITTLE BUSY BEE ,\" but it all came different !\\'',\n",
              " 'Alice replied in a very melancholy voice .',\n",
              " '\\' Repeat , \" YOU ARE OLD , FATHER WILLIAM ,\"\\' said the Caterpillar .',\n",
              " 'Alice folded her hands , and began :--',\n",
              " \"' You are old , Father William ,' the young man said , ' And your hair has become very white ; And yet you incessantly stand on your head -- Do you think , at your age , it is right ?'\",\n",
              " \"' In my youth ,' Father William replied to his son , ' I feared it might injure the brain ; But , now that I ' m perfectly sure I have none , Why , I do it again and again .'\",\n",
              " \"' You are old ,' said the youth , ' as I mentioned before , And have grown most uncommonly fat ; Yet you turned a back - somersault in at the door -- Pray , what is the reason of that ?'\",\n",
              " \"' In my youth ,' said the sage , as he shook his grey locks , ' I kept all my limbs very supple By the use of this ointment -- one shilling the box -- Allow me to sell you a couple ?'\",\n",
              " \"' You are old ,' said the youth , ' and your jaws are too weak For anything tougher than suet ; Yet you finished the goose , with the bones and the beak -- Pray how did you manage to do it ?'\",\n",
              " \"' In my youth ,' said his father , ' I took to the law , And argued each case with my wife ; And the muscular strength , which it gave to my jaw , Has lasted the rest of my life .'\",\n",
              " \"' You are old ,' said the youth , ' one would hardly suppose That your eye was as steady as ever ; Yet you balanced an eel on the end of your nose -- What made you so awfully clever ?'\",\n",
              " \"' I have answered three questions , and that is enough ,' Said his father ; ' don ' t give yourself airs !\",\n",
              " 'Do you think I can listen all day to such stuff ?',\n",
              " \"Be off , or I ' ll kick you down stairs !'\",\n",
              " \"' That is not said right ,' said the Caterpillar .\",\n",
              " \"' Not QUITE right , I ' m afraid ,' said Alice , timidly ; ' some of the words have got altered .'\",\n",
              " \"' It is wrong from beginning to end ,' said the Caterpillar decidedly , and there was silence for some minutes .\",\n",
              " 'The Caterpillar was the first to speak .',\n",
              " \"' What size do you want to be ?'\",\n",
              " 'it asked .',\n",
              " \"' Oh , I ' m not particular as to size ,' Alice hastily replied ; ' only one doesn ' t like changing so often , you know .'\",\n",
              " \"' I DON ' T know ,' said the Caterpillar .\",\n",
              " 'Alice said nothing : she had never been so much contradicted in her life before , and she felt that she was losing her temper .',\n",
              " \"' Are you content now ?'\",\n",
              " 'said the Caterpillar .',\n",
              " \"' Well , I should like to be a LITTLE larger , sir , if you wouldn ' t mind ,' said Alice : ' three inches is such a wretched height to be .'\",\n",
              " \"' It is a very good height indeed !'\",\n",
              " 'said the Caterpillar angrily , rearing itself upright as it spoke ( it was exactly three inches high ).',\n",
              " \"' But I ' m not used to it !'\",\n",
              " 'pleaded poor Alice in a piteous tone .',\n",
              " \"And she thought of herself , ' I wish the creatures wouldn ' t be so easily offended !'\",\n",
              " \"' You ' ll get used to it in time ,' said the Caterpillar ; and it put the hookah into its mouth and began smoking again .\",\n",
              " 'This time Alice waited patiently until it chose to speak again .',\n",
              " 'In a minute or two the Caterpillar took the hookah out of its mouth and yawned once or twice , and shook itself .',\n",
              " \"Then it got down off the mushroom , and crawled away in the grass , merely remarking as it went , ' One side will make you grow taller , and the other side will make you grow shorter .'\",\n",
              " \"' One side of WHAT ?\",\n",
              " \"The other side of WHAT ?'\",\n",
              " 'thought Alice to herself .',\n",
              " \"' Of the mushroom ,' said the Caterpillar , just as if she had asked it aloud ; and in another moment it was out of sight .\",\n",
              " 'Alice remained looking thoughtfully at the mushroom for a minute , trying to make out which were the two sides of it ; and as it was perfectly round , she found this a very difficult question .',\n",
              " 'However , at last she stretched her arms round it as far as they would go , and broke off a bit of the edge with each hand .',\n",
              " \"' And now which is which ?'\",\n",
              " 'she said to herself , and nibbled a little of the right - hand bit to try the effect : the next moment she felt a violent blow underneath her chin : it had struck her foot !',\n",
              " 'She was a good deal frightened by this very sudden change , but she felt that there was no time to be lost , as she was shrinking rapidly ; so she set to work at once to eat some of the other bit .',\n",
              " 'Her chin was pressed so closely against her foot , that there was hardly room to open her mouth ; but she did it at last , and managed to swallow a morsel of the lefthand bit .',\n",
              " '* * * * * * *',\n",
              " '* * * * * *',\n",
              " '* * * * * * *',\n",
              " \"' Come , my head ' s free at last !'\",\n",
              " 'said Alice in a tone of delight , which changed into alarm in another moment , when she found that her shoulders were nowhere to be found : all she could see , when she looked down , was an immense length of neck , which seemed to rise like a stalk out of a sea of green leaves that lay far below her .',\n",
              " \"' What CAN all that green stuff be ?'\",\n",
              " 'said Alice .',\n",
              " \"' And where HAVE my shoulders got to ?\",\n",
              " \"And oh , my poor hands , how is it I can ' t see you ?'\",\n",
              " 'She was moving them about as she spoke , but no result seemed to follow , except a little shaking among the distant green leaves .',\n",
              " 'As there seemed to be no chance of getting her hands up to her head , she tried to get her head down to them , and was delighted to find that her neck would bend about easily in any direction , like a serpent .',\n",
              " 'She had just succeeded in curving it down into a graceful zigzag , and was going to dive in among the leaves , which she found to be nothing but the tops of the trees under which she had been wandering , when a sharp hiss made her draw back in a hurry : a large pigeon had flown into her face , and was beating her violently with its wings .',\n",
              " \"' Serpent !'\",\n",
              " 'screamed the Pigeon .',\n",
              " \"' I ' m NOT a serpent !'\",\n",
              " 'said Alice indignantly .',\n",
              " \"' Let me alone !'\",\n",
              " \"' Serpent , I say again !'\",\n",
              " \"repeated the Pigeon , but in a more subdued tone , and added with a kind of sob , ' I ' ve tried every way , and nothing seems to suit them !'\",\n",
              " \"' I haven ' t the least idea what you ' re talking about ,' said Alice .\",\n",
              " \"' I ' ve tried the roots of trees , and I ' ve tried banks , and I ' ve tried hedges ,' the Pigeon went on , without attending to her ; ' but those serpents !\",\n",
              " \"There ' s no pleasing them !'\",\n",
              " 'Alice was more and more puzzled , but she thought there was no use in saying anything more till the Pigeon had finished .',\n",
              " \"' As if it wasn ' t trouble enough hatching the eggs ,' said the Pigeon ; ' but I must be on the look - out for serpents night and day !\",\n",
              " \"Why , I haven ' t had a wink of sleep these three weeks !'\",\n",
              " \"' I ' m very sorry you ' ve been annoyed ,' said Alice , who was beginning to see its meaning .\",\n",
              " \"' And just as I ' d taken the highest tree in the wood ,' continued the Pigeon , raising its voice to a shriek , ' and just as I was thinking I should be free of them at last , they must needs come wriggling down from the sky !\",\n",
              " \"Ugh , Serpent !'\",\n",
              " \"' But I ' m NOT a serpent , I tell you !'\",\n",
              " 'said Alice .',\n",
              " \"' I ' m a -- I ' m a --'\",\n",
              " \"' Well !\",\n",
              " \"WHAT are you ?'\",\n",
              " 'said the Pigeon .',\n",
              " \"' I can see you ' re trying to invent something !'\",\n",
              " \"' I -- I ' m a little girl ,' said Alice , rather doubtfully , as she remembered the number of changes she had gone through that day .\",\n",
              " \"' A likely story indeed !'\",\n",
              " 'said the Pigeon in a tone of the deepest contempt .',\n",
              " \"' I ' ve seen a good many little girls in my time , but never ONE with such a neck as that !\",\n",
              " 'No , no !',\n",
              " \"You ' re a serpent ; and there ' s no use denying it .\",\n",
              " \"I suppose you ' ll be telling me next that you never tasted an egg !'\",\n",
              " \"' I HAVE tasted eggs , certainly ,' said Alice , who was a very truthful child ; ' but little girls eat eggs quite as much as serpents do , you know .'\",\n",
              " \"' I don ' t believe it ,' said the Pigeon ; ' but if they do , why then they ' re a kind of serpent , that ' s all I can say .'\",\n",
              " \"This was such a new idea to Alice , that she was quite silent for a minute or two , which gave the Pigeon the opportunity of adding , ' You ' re looking for eggs , I know THAT well enough ; and what does it matter to me whether you ' re a little girl or a serpent ?'\",\n",
              " \"' It matters a good deal to ME ,' said Alice hastily ; ' but I ' m not looking for eggs , as it happens ; and if I was , I shouldn ' t want YOURS : I don ' t like them raw .'\",\n",
              " \"' Well , be off , then !'\",\n",
              " 'said the Pigeon in a sulky tone , as it settled down again into its nest .',\n",
              " 'Alice crouched down among the trees as well as she could , for her neck kept getting entangled among the branches , and every now and then she had to stop and untwist it .',\n",
              " 'After a while she remembered that she still held the pieces of mushroom in her hands , and she set to work very carefully , nibbling first at one and then at the other , and growing sometimes taller and sometimes shorter , until she had succeeded in bringing herself down to her usual height .',\n",
              " 'It was so long since she had been anything near the right size , that it felt quite strange at first ; but she got used to it in a few minutes , and began talking to herself , as usual .',\n",
              " \"' Come , there ' s half my plan done now !\",\n",
              " 'How puzzling all these changes are !',\n",
              " \"I ' m never sure what I ' m going to be , from one minute to another !\",\n",
              " \"However , I ' ve got back to my right size : the next thing is , to get into that beautiful garden -- how IS that to be done , I wonder ?'\",\n",
              " 'As she said this , she came suddenly upon an open place , with a little house in it about four feet high .',\n",
              " \"' Whoever lives there ,' thought Alice , ' it ' ll never do to come upon them THIS size : why , I should frighten them out of their wits !'\",\n",
              " 'So she began nibbling at the righthand bit again , and did not venture to go near the house till she had brought herself down to nine inches high .',\n",
              " 'CHAPTER VI .',\n",
              " 'Pig and Pepper',\n",
              " 'For a minute or two she stood looking at the house , and wondering what to do next , when suddenly a footman in livery came running out of the wood --( she considered him to be a footman because he was in livery : otherwise , judging by his face only , she would have called him a fish )-- and rapped loudly at the door with his knuckles .',\n",
              " 'It was opened by another footman in livery , with a round face , and large eyes like a frog ; and both footmen , Alice noticed , had powdered hair that curled all over their heads .',\n",
              " 'She felt very curious to know what it was all about , and crept a little way out of the wood to listen .',\n",
              " \"The Fish - Footman began by producing from under his arm a great letter , nearly as large as himself , and this he handed over to the other , saying , in a solemn tone , ' For the Duchess .\",\n",
              " \"An invitation from the Queen to play croquet .'\",\n",
              " \"The Frog - Footman repeated , in the same solemn tone , only changing the order of the words a little , ' From the Queen .\",\n",
              " \"An invitation for the Duchess to play croquet .'\",\n",
              " 'Then they both bowed low , and their curls got entangled together .',\n",
              " 'Alice laughed so much at this , that she had to run back into the wood for fear of their hearing her ; and when she next peeped out the Fish - Footman was gone , and the other was sitting on the ground near the door , staring stupidly up into the sky .',\n",
              " 'Alice went timidly up to the door , and knocked .',\n",
              " \"' There ' s no sort of use in knocking ,' said the Footman , ' and that for two reasons .\",\n",
              " \"First , because I ' m on the same side of the door as you are ; secondly , because they ' re making such a noise inside , no one could possibly hear you .'\",\n",
              " 'And certainly there was a most extraordinary noise going on within -- a constant howling and sneezing , and every now and then a great crash , as if a dish or kettle had been broken to pieces .',\n",
              " \"' Please , then ,' said Alice , ' how am I to get in ?'\",\n",
              " \"' There might be some sense in your knocking ,' the Footman went on without attending to her , ' if we had the door between us .\",\n",
              " \"For instance , if you were INSIDE , you might knock , and I could let you out , you know .'\",\n",
              " 'He was looking up into the sky all the time he was speaking , and this Alice thought decidedly uncivil .',\n",
              " \"' But perhaps he can ' t help it ,' she said to herself ; ' his eyes are so VERY nearly at the top of his head .\",\n",
              " \"But at any rate he might answer questions .-- How am I to get in ?'\",\n",
              " 'she repeated , aloud .',\n",
              " \"' I shall sit here ,' the Footman remarked , ' till tomorrow --'\",\n",
              " \"At this moment the door of the house opened , and a large plate came skimming out , straight at the Footman ' s head : it just grazed his nose , and broke to pieces against one of the trees behind him .\",\n",
              " \"'-- or next day , maybe ,' the Footman continued in the same tone , exactly as if nothing had happened .\",\n",
              " \"' How am I to get in ?'\",\n",
              " 'asked Alice again , in a louder tone .',\n",
              " \"' ARE you to get in at all ?'\",\n",
              " 'said the Footman .',\n",
              " \"' That ' s the first question , you know .'\",\n",
              " 'It was , no doubt : only Alice did not like to be told so .',\n",
              " \"' It ' s really dreadful ,' she muttered to herself , ' the way all the creatures argue .\",\n",
              " \"It ' s enough to drive one crazy !'\",\n",
              " 'The Footman seemed to think this a good opportunity for repeating his remark , with variations .',\n",
              " \"' I shall sit here ,' he said , ' on and off , for days and days .'\",\n",
              " \"' But what am I to do ?'\",\n",
              " 'said Alice .',\n",
              " \"' Anything you like ,' said the Footman , and began whistling .\",\n",
              " \"' Oh , there ' s no use in talking to him ,' said Alice desperately : ' he ' s perfectly idiotic !'\",\n",
              " 'And she opened the door and went in .',\n",
              " 'The door led right into a large kitchen , which was full of smoke from one end to the other : the Duchess was sitting on a three - legged stool in the middle , nursing a baby ; the cook was leaning over the fire , stirring a large cauldron which seemed to be full of soup .',\n",
              " \"' There ' s certainly too much pepper in that soup !'\",\n",
              " 'Alice said to herself , as well as she could for sneezing .',\n",
              " 'There was certainly too much of it in the air .',\n",
              " \"Even the Duchess sneezed occasionally ; and as for the baby , it was sneezing and howling alternately without a moment ' s pause .\",\n",
              " 'The only things in the kitchen that did not sneeze , were the cook , and a large cat which was sitting on the hearth and grinning from ear to ear .',\n",
              " \"' Please would you tell me ,' said Alice , a little timidly , for she was not quite sure whether it was good manners for her to speak first , ' why your cat grins like that ?'\",\n",
              " \"' It ' s a Cheshire cat ,' said the Duchess , ' and that ' s why .\",\n",
              " \"Pig !'\",\n",
              " 'She said the last word with such sudden violence that Alice quite jumped ; but she saw in another moment that it was addressed to the baby , and not to her , so she took courage , and went on again :--',\n",
              " \"' I didn ' t know that Cheshire cats always grinned ; in fact , I didn ' t know that cats COULD grin .'\",\n",
              " \"' They all can ,' said the Duchess ; ' and most of ' em do .'\",\n",
              " \"' I don ' t know of any that do ,' Alice said very politely , feeling quite pleased to have got into a conversation .\",\n",
              " \"' You don ' t know much ,' said the Duchess ; ' and that ' s a fact .'\",\n",
              " 'Alice did not at all like the tone of this remark , and thought it would be as well to introduce some other subject of conversation .',\n",
              " 'While she was trying to fix on one , the cook took the cauldron of soup off the fire , and at once set to work throwing everything within her reach at the Duchess and the baby -- the fire - irons came first ; then followed a shower of saucepans , plates , and dishes .',\n",
              " 'The Duchess took no notice of them even when they hit her ; and the baby was howling so much already , that it was quite impossible to say whether the blows hurt it or not .',\n",
              " \"' Oh , PLEASE mind what you ' re doing !'\",\n",
              " 'cried Alice , jumping up and down in an agony of terror .',\n",
              " \"' Oh , there goes his PRECIOUS nose '; as an unusually large saucepan flew close by it , and very nearly carried it off .\",\n",
              " \"' If everybody minded their own business ,' the Duchess said in a hoarse growl , ' the world would go round a deal faster than it does .'\",\n",
              " \"' Which would NOT be an advantage ,' said Alice , who felt very glad to get an opportunity of showing off a little of her knowledge .\",\n",
              " \"' Just think of what work it would make with the day and night !\",\n",
              " \"You see the earth takes twenty - four hours to turn round on its axis --'\",\n",
              " \"' Talking of axes ,' said the Duchess , ' chop off her head !'\",\n",
              " \"Alice glanced rather anxiously at the cook , to see if she meant to take the hint ; but the cook was busily stirring the soup , and seemed not to be listening , so she went on again : ' Twenty - four hours , I THINK ; or is it twelve ?\",\n",
              " \"I --'\",\n",
              " \"' Oh , don ' t bother ME ,' said the Duchess ; ' I never could abide figures !'\",\n",
              " 'And with that she began nursing her child again , singing a sort of lullaby to it as she did so , and giving it a violent shake at the end of every line :',\n",
              " \"' Speak roughly to your little boy , And beat him when he sneezes : He only does it to annoy , Because he knows it teases .'\",\n",
              " 'CHORUS .',\n",
              " '( In which the cook and the baby joined ):--',\n",
              " \"' Wow !\",\n",
              " 'wow !',\n",
              " \"wow !'\",\n",
              " 'While the Duchess sang the second verse of the song , she kept tossing the baby violently up and down , and the poor little thing howled so , that Alice could hardly hear the words :--',\n",
              " \"' I speak severely to my boy , I beat him when he sneezes ; For he can thoroughly enjoy The pepper when he pleases !'\",\n",
              " 'CHORUS .',\n",
              " \"' Wow !\",\n",
              " 'wow !',\n",
              " \"wow !'\",\n",
              " \"' Here !\",\n",
              " \"you may nurse it a bit , if you like !'\",\n",
              " 'the Duchess said to Alice , flinging the baby at her as she spoke .',\n",
              " \"' I must go and get ready to play croquet with the Queen ,' and she hurried out of the room .\",\n",
              " 'The cook threw a frying - pan after her as she went out , but it just missed her .',\n",
              " \"Alice caught the baby with some difficulty , as it was a queer - shaped little creature , and held out its arms and legs in all directions , ' just like a star - fish ,' thought Alice .\",\n",
              " 'The poor little thing was snorting like a steam - engine when she caught it , and kept doubling itself up and straightening itself out again , so that altogether , for the first minute or two , it was as much as she could do to hold it .',\n",
              " 'As soon as she had made out the proper way of nursing it , ( which was to twist it up into a sort of knot , and then keep tight hold of its right ear and left foot , so as to prevent its undoing itself ,) she carried it out into the open air .',\n",
              " \"' IF I don ' t take this child away with me ,' thought Alice , ' they ' re sure to kill it in a day or two : wouldn ' t it be murder to leave it behind ?'\",\n",
              " 'She said the last words out loud , and the little thing grunted in reply ( it had left off sneezing by this time ).',\n",
              " \"' Don ' t grunt ,' said Alice ; ' that ' s not at all a proper way of expressing yourself .'\",\n",
              " 'The baby grunted again , and Alice looked very anxiously into its face to see what was the matter with it .',\n",
              " 'There could be no doubt that it had a VERY turn - up nose , much more like a snout than a real nose ; also its eyes were getting extremely small for a baby : altogether Alice did not like the look of the thing at all .',\n",
              " \"' But perhaps it was only sobbing ,' she thought , and looked into its eyes again , to see if there were any tears .\",\n",
              " 'No , there were no tears .',\n",
              " \"' If you ' re going to turn into a pig , my dear ,' said Alice , seriously , ' I ' ll have nothing more to do with you .\",\n",
              " \"Mind now !'\",\n",
              " 'The poor little thing sobbed again ( or grunted , it was impossible to say which ), and they went on for some while in silence .',\n",
              " \"Alice was just beginning to think to herself , ' Now , what am I to do with this creature when I get it home ?'\",\n",
              " 'when it grunted again , so violently , that she looked down into its face in some alarm .',\n",
              " 'This time there could be NO mistake about it : it was neither more nor less than a pig , and she felt that it would be quite absurd for her to carry it further .',\n",
              " 'So she set the little creature down , and felt quite relieved to see it trot away quietly into the wood .',\n",
              " \"' If it had grown up ,' she said to herself , ' it would have made a dreadfully ugly child : but it makes rather a handsome pig , I think .'\",\n",
              " \"And she began thinking over other children she knew , who might do very well as pigs , and was just saying to herself , ' if one only knew the right way to change them --' when she was a little startled by seeing the Cheshire Cat sitting on a bough of a tree a few yards off .\",\n",
              " 'The Cat only grinned when it saw Alice .',\n",
              " 'It looked good - natured , she thought : still it had VERY long claws and a great many teeth , so she felt that it ought to be treated with respect .',\n",
              " \"' Cheshire Puss ,' she began , rather timidly , as she did not at all know whether it would like the name : however , it only grinned a little wider .\",\n",
              " \"' Come , it ' s pleased so far ,' thought Alice , and she went on .\",\n",
              " \"' Would you tell me , please , which way I ought to go from here ?'\",\n",
              " \"' That depends a good deal on where you want to get to ,' said the Cat .\",\n",
              " \"' I don ' t much care where --' said Alice .\",\n",
              " \"' Then it doesn ' t matter which way you go ,' said the Cat .\",\n",
              " \"'-- so long as I get SOMEWHERE ,' Alice added as an explanation .\",\n",
              " \"' Oh , you ' re sure to do that ,' said the Cat , ' if you only walk long enough .'\",\n",
              " 'Alice felt that this could not be denied , so she tried another question .',\n",
              " \"' What sort of people live about here ?'\",\n",
              " \"' In THAT direction ,' the Cat said , waving its right paw round , ' lives a Hatter : and in THAT direction ,' waving the other paw , ' lives a March Hare .\",\n",
              " \"Visit either you like : they ' re both mad .'\",\n",
              " \"' But I don ' t want to go among mad people ,' Alice remarked .\",\n",
              " \"' Oh , you can ' t help that ,' said the Cat : ' we ' re all mad here .\",\n",
              " \"I ' m mad .\",\n",
              " \"You ' re mad .'\",\n",
              " \"' How do you know I ' m mad ?'\",\n",
              " 'said Alice .',\n",
              " \"' You must be ,' said the Cat , ' or you wouldn ' t have come here .'\",\n",
              " \"Alice didn ' t think that proved it at all ; however , she went on ' And how do you know that you ' re mad ?'\",\n",
              " \"' To begin with ,' said the Cat , ' a dog ' s not mad .\",\n",
              " \"You grant that ?'\",\n",
              " \"' I suppose so ,' said Alice .\",\n",
              " \"' Well , then ,' the Cat went on , ' you see , a dog growls when it ' s angry , and wags its tail when it ' s pleased .\",\n",
              " \"Now I growl when I ' m pleased , and wag my tail when I ' m angry .\",\n",
              " \"Therefore I ' m mad .'\",\n",
              " \"' I call it purring , not growling ,' said Alice .\",\n",
              " \"' Call it what you like ,' said the Cat .\",\n",
              " \"' Do you play croquet with the Queen to - day ?'\",\n",
              " \"' I should like it very much ,' said Alice , ' but I haven ' t been invited yet .'\",\n",
              " \"' You ' ll see me there ,' said the Cat , and vanished .\",\n",
              " 'Alice was not much surprised at this , she was getting so used to queer things happening .',\n",
              " 'While she was looking at the place where it had been , it suddenly appeared again .',\n",
              " \"' By - the - bye , what became of the baby ?'\",\n",
              " 'said the Cat .',\n",
              " \"' I ' d nearly forgotten to ask .'\",\n",
              " \"' It turned into a pig ,' Alice quietly said , just as if it had come back in a natural way .\",\n",
              " \"' I thought it would ,' said the Cat , and vanished again .\",\n",
              " 'Alice waited a little , half expecting to see it again , but it did not appear , and after a minute or two she walked on in the direction in which the March Hare was said to live .',\n",
              " \"' I ' ve seen hatters before ,' she said to herself ; ' the March Hare will be much the most interesting , and perhaps as this is May it won ' t be raving mad -- at least not so mad as it was in March .'\",\n",
              " 'As she said this , she looked up , and there was the Cat again , sitting on a branch of a tree .',\n",
              " \"' Did you say pig , or fig ?'\",\n",
              " 'said the Cat .',\n",
              " \"' I said pig ,' replied Alice ; ' and I wish you wouldn ' t keep appearing and vanishing so suddenly : you make one quite giddy .'\",\n",
              " \"' All right ,' said the Cat ; and this time it vanished quite slowly , beginning with the end of the tail , and ending with the grin , which remained some time after the rest of it had gone .\",\n",
              " \"' Well !\",\n",
              " \"I ' ve often seen a cat without a grin ,' thought Alice ; ' but a grin without a cat !\",\n",
              " \"It ' s the most curious thing I ever saw in my life !'\",\n",
              " 'She had not gone much farther before she came in sight of the house of the March Hare : she thought it must be the right house , because the chimneys were shaped like ears and the roof was thatched with fur .',\n",
              " \"It was so large a house , that she did not like to go nearer till she had nibbled some more of the lefthand bit of mushroom , and raised herself to about two feet high : even then she walked up towards it rather timidly , saying to herself ' Suppose it should be raving mad after all !\",\n",
              " \"I almost wish I ' d gone to see the Hatter instead !'\",\n",
              " 'CHAPTER VII .',\n",
              " 'A Mad Tea - Party',\n",
              " 'There was a table set out under a tree in front of the house , and the March Hare and the Hatter were having tea at it : a Dormouse was sitting between them , fast asleep , and the other two were using it as a cushion , resting their elbows on it , and talking over its head .',\n",
              " \"' Very uncomfortable for the Dormouse ,' thought Alice ; ' only , as it ' s asleep , I suppose it doesn ' t mind .'\",\n",
              " \"The table was a large one , but the three were all crowded together at one corner of it : ' No room !\",\n",
              " \"No room !'\",\n",
              " 'they cried out when they saw Alice coming .',\n",
              " \"' There ' s PLENTY of room !'\",\n",
              " 'said Alice indignantly , and she sat down in a large arm - chair at one end of the table .',\n",
              " \"' Have some wine ,' the March Hare said in an encouraging tone .\",\n",
              " 'Alice looked all round the table , but there was nothing on it but tea .',\n",
              " \"' I don ' t see any wine ,' she remarked .\",\n",
              " \"' There isn ' t any ,' said the March Hare .\",\n",
              " \"' Then it wasn ' t very civil of you to offer it ,' said Alice angrily .\",\n",
              " \"' It wasn ' t very civil of you to sit down without being invited ,' said the March Hare .\",\n",
              " \"' I didn ' t know it was YOUR table ,' said Alice ; ' it ' s laid for a great many more than three .'\",\n",
              " \"' Your hair wants cutting ,' said the Hatter .\",\n",
              " 'He had been looking at Alice for some time with great curiosity , and this was his first speech .',\n",
              " \"' You should learn not to make personal remarks ,' Alice said with some severity ; ' it ' s very rude .'\",\n",
              " \"The Hatter opened his eyes very wide on hearing this ; but all he SAID was , ' Why is a raven like a writing - desk ?'\",\n",
              " \"' Come , we shall have some fun now !'\",\n",
              " 'thought Alice .',\n",
              " \"' I ' m glad they ' ve begun asking riddles .-- I believe I can guess that ,' she added aloud .\",\n",
              " \"' Do you mean that you think you can find out the answer to it ?'\",\n",
              " 'said the March Hare .',\n",
              " \"' Exactly so ,' said Alice .\",\n",
              " \"' Then you should say what you mean ,' the March Hare went on .\",\n",
              " \"' I do ,' Alice hastily replied ; ' at least -- at least I mean what I say -- that ' s the same thing , you know .'\",\n",
              " \"' Not the same thing a bit !'\",\n",
              " 'said the Hatter .',\n",
              " '\\' You might just as well say that \" I see what I eat \" is the same thing as \" I eat what I see \"!\\'',\n",
              " '\\' You might just as well say ,\\' added the March Hare , \\' that \" I like what I get \" is the same thing as \" I get what I like \"!\\'',\n",
              " '\\' You might just as well say ,\\' added the Dormouse , who seemed to be talking in his sleep , \\' that \" I breathe when I sleep \" is the same thing as \" I sleep when I breathe \"!\\'',\n",
              " \"' It IS the same thing with you ,' said the Hatter , and here the conversation dropped , and the party sat silent for a minute , while Alice thought over all she could remember about ravens and writing - desks , which wasn ' t much .\",\n",
              " 'The Hatter was the first to break the silence .',\n",
              " \"' What day of the month is it ?'\",\n",
              " 'he said , turning to Alice : he had taken his watch out of his pocket , and was looking at it uneasily , shaking it every now and then , and holding it to his ear .',\n",
              " \"Alice considered a little , and then said ' The fourth .'\",\n",
              " \"' Two days wrong !'\",\n",
              " 'sighed the Hatter .',\n",
              " \"' I told you butter wouldn ' t suit the works !'\",\n",
              " 'he added looking angrily at the March Hare .',\n",
              " \"' It was the BEST butter ,' the March Hare meekly replied .\",\n",
              " \"' Yes , but some crumbs must have got in as well ,' the Hatter grumbled : ' you shouldn ' t have put it in with the bread - knife .'\",\n",
              " \"The March Hare took the watch and looked at it gloomily : then he dipped it into his cup of tea , and looked at it again : but he could think of nothing better to say than his first remark , ' It was the BEST butter , you know .'\",\n",
              " 'Alice had been looking over his shoulder with some curiosity .',\n",
              " \"' What a funny watch !'\",\n",
              " 'she remarked .',\n",
              " \"' It tells the day of the month , and doesn ' t tell what o ' clock it is !'\",\n",
              " \"' Why should it ?'\",\n",
              " 'muttered the Hatter .',\n",
              " \"' Does YOUR watch tell you what year it is ?'\",\n",
              " \"' Of course not ,' Alice replied very readily : ' but that ' s because it stays the same year for such a long time together .'\",\n",
              " \"' Which is just the case with MINE ,' said the Hatter .\",\n",
              " 'Alice felt dreadfully puzzled .',\n",
              " \"The Hatter ' s remark seemed to have no sort of meaning in it , and yet it was certainly English .\",\n",
              " \"' I don ' t quite understand you ,' she said , as politely as she could .\",\n",
              " \"' The Dormouse is asleep again ,' said the Hatter , and he poured a little hot tea upon its nose .\",\n",
              " \"The Dormouse shook its head impatiently , and said , without opening its eyes , ' Of course , of course ; just what I was going to remark myself .'\",\n",
              " \"' Have you guessed the riddle yet ?'\",\n",
              " 'the Hatter said , turning to Alice again .',\n",
              " \"' No , I give it up ,' Alice replied : ' what ' s the answer ?'\",\n",
              " \"' I haven ' t the slightest idea ,' said the Hatter .\",\n",
              " \"' Nor I ,' said the March Hare .\",\n",
              " 'Alice sighed wearily .',\n",
              " \"' I think you might do something better with the time ,' she said , ' than waste it in asking riddles that have no answers .'\",\n",
              " \"' If you knew Time as well as I do ,' said the Hatter , ' you wouldn ' t talk about wasting IT .\",\n",
              " \"It ' s HIM .'\",\n",
              " \"' I don ' t know what you mean ,' said Alice .\",\n",
              " \"' Of course you don ' t !'\",\n",
              " 'the Hatter said , tossing his head contemptuously .',\n",
              " \"' I dare say you never even spoke to Time !'\",\n",
              " \"' Perhaps not ,' Alice cautiously replied : ' but I know I have to beat time when I learn music .'\",\n",
              " \"' Ah !\",\n",
              " \"that accounts for it ,' said the Hatter .\",\n",
              " \"' He won ' t stand beating .\",\n",
              " \"Now , if you only kept on good terms with him , he ' d do almost anything you liked with the clock .\",\n",
              " \"For instance , suppose it were nine o ' clock in the morning , just time to begin lessons : you ' d only have to whisper a hint to Time , and round goes the clock in a twinkling !\",\n",
              " \"Half - past one , time for dinner !'\",\n",
              " \"(' I only wish it was ,' the March Hare said to itself in a whisper .)\",\n",
              " \"' That would be grand , certainly ,' said Alice thoughtfully : ' but then -- I shouldn ' t be hungry for it , you know .'\",\n",
              " \"' Not at first , perhaps ,' said the Hatter : ' but you could keep it to half - past one as long as you liked .'\",\n",
              " \"' Is that the way YOU manage ?'\",\n",
              " 'Alice asked .',\n",
              " 'The Hatter shook his head mournfully .',\n",
              " \"' Not I !'\",\n",
              " 'he replied .',\n",
              " \"' We quarrelled last March -- just before HE went mad , you know --' ( pointing with his tea spoon at the March Hare ,) '-- it was at the great concert given by the Queen of Hearts , and I had to sing\",\n",
              " '\" Twinkle , twinkle , little bat !',\n",
              " 'How I wonder what you \\' re at !\"',\n",
              " \"You know the song , perhaps ?'\",\n",
              " \"' I ' ve heard something like it ,' said Alice .\",\n",
              " \"' It goes on , you know ,' the Hatter continued , ' in this way :--\",\n",
              " '\" Up above the world you fly , Like a tea - tray in the sky .',\n",
              " 'Twinkle , twinkle --\"\\'',\n",
              " \"Here the Dormouse shook itself , and began singing in its sleep ' Twinkle , twinkle , twinkle , twinkle --' and went on so long that they had to pinch it to make it stop .\",\n",
              " '\\' Well , I \\' d hardly finished the first verse ,\\' said the Hatter , \\' when the Queen jumped up and bawled out , \" He \\' s murdering the time !',\n",
              " 'Off with his head !\"\\'',\n",
              " \"' How dreadfully savage !'\",\n",
              " 'exclaimed Alice .',\n",
              " \"' And ever since that ,' the Hatter went on in a mournful tone , ' he won ' t do a thing I ask !\",\n",
              " \"It ' s always six o ' clock now .'\",\n",
              " \"A bright idea came into Alice ' s head .\",\n",
              " \"' Is that the reason so many tea - things are put out here ?'\",\n",
              " 'she asked .',\n",
              " \"' Yes , that ' s it ,' said the Hatter with a sigh : ' it ' s always tea - time , and we ' ve no time to wash the things between whiles .'\",\n",
              " \"' Then you keep moving round , I suppose ?'\",\n",
              " 'said Alice .',\n",
              " \"' Exactly so ,' said the Hatter : ' as the things get used up .'\",\n",
              " \"' But what happens when you come to the beginning again ?'\",\n",
              " 'Alice ventured to ask .',\n",
              " \"' Suppose we change the subject ,' the March Hare interrupted , yawning .\",\n",
              " \"' I ' m getting tired of this .\",\n",
              " \"I vote the young lady tells us a story .'\",\n",
              " \"' I ' m afraid I don ' t know one ,' said Alice , rather alarmed at the proposal .\",\n",
              " \"' Then the Dormouse shall !'\",\n",
              " 'they both cried .',\n",
              " \"' Wake up , Dormouse !'\",\n",
              " 'And they pinched it on both sides at once .',\n",
              " 'The Dormouse slowly opened his eyes .',\n",
              " \"' I wasn ' t asleep ,' he said in a hoarse , feeble voice : ' I heard every word you fellows were saying .'\",\n",
              " \"' Tell us a story !'\",\n",
              " 'said the March Hare .',\n",
              " \"' Yes , please do !'\",\n",
              " 'pleaded Alice .',\n",
              " \"' And be quick about it ,' added the Hatter , ' or you ' ll be asleep again before it ' s done .'\",\n",
              " \"' Once upon a time there were three little sisters ,' the Dormouse began in a great hurry ; ' and their names were Elsie , Lacie , and Tillie ; and they lived at the bottom of a well --'\",\n",
              " \"' What did they live on ?'\",\n",
              " 'said Alice , who always took a great interest in questions of eating and drinking .',\n",
              " \"' They lived on treacle ,' said the Dormouse , after thinking a minute or two .\",\n",
              " \"' They couldn ' t have done that , you know ,' Alice gently remarked ; ' they ' d have been ill .'\",\n",
              " \"' So they were ,' said the Dormouse ; ' VERY ill .'\",\n",
              " \"Alice tried to fancy to herself what such an extraordinary ways of living would be like , but it puzzled her too much , so she went on : ' But why did they live at the bottom of a well ?'\",\n",
              " \"' Take some more tea ,' the March Hare said to Alice , very earnestly .\",\n",
              " \"' I ' ve had nothing yet ,' Alice replied in an offended tone , ' so I can ' t take more .'\",\n",
              " \"' You mean you can ' t take LESS ,' said the Hatter : ' it ' s very easy to take MORE than nothing .'\",\n",
              " \"' Nobody asked YOUR opinion ,' said Alice .\",\n",
              " \"' Who ' s making personal remarks now ?'\",\n",
              " 'the Hatter asked triumphantly .',\n",
              " 'Alice did not quite know what to say to this : so she helped herself to some tea and bread - and - butter , and then turned to the Dormouse , and repeated her question .',\n",
              " \"' Why did they live at the bottom of a well ?'\",\n",
              " \"The Dormouse again took a minute or two to think about it , and then said , ' It was a treacle - well .'\",\n",
              " \"' There ' s no such thing !'\",\n",
              " \"Alice was beginning very angrily , but the Hatter and the March Hare went ' Sh !\",\n",
              " \"sh !'\",\n",
              " \"and the Dormouse sulkily remarked , ' If you can ' t be civil , you ' d better finish the story for yourself .'\",\n",
              " \"' No , please go on !'\",\n",
              " \"Alice said very humbly ; ' I won ' t interrupt again .\",\n",
              " \"I dare say there may be ONE .'\",\n",
              " \"' One , indeed !'\",\n",
              " 'said the Dormouse indignantly .',\n",
              " 'However , he consented to go on .',\n",
              " \"' And so these three little sisters -- they were learning to draw , you know --'\",\n",
              " \"' What did they draw ?'\",\n",
              " 'said Alice , quite forgetting her promise .',\n",
              " \"' Treacle ,' said the Dormouse , without considering at all this time .\",\n",
              " \"' I want a clean cup ,' interrupted the Hatter : ' let ' s all move one place on .'\",\n",
              " \"He moved on as he spoke , and the Dormouse followed him : the March Hare moved into the Dormouse ' s place , and Alice rather unwillingly took the place of the March Hare .\",\n",
              " 'The Hatter was the only one who got any advantage from the change : and Alice was a good deal worse off than before , as the March Hare had just upset the milk - jug into his plate .',\n",
              " \"Alice did not wish to offend the Dormouse again , so she began very cautiously : ' But I don ' t understand .\",\n",
              " \"Where did they draw the treacle from ?'\",\n",
              " \"' You can draw water out of a water - well ,' said the Hatter ; ' so I should think you could draw treacle out of a treacle - well -- eh , stupid ?'\",\n",
              " \"' But they were IN the well ,' Alice said to the Dormouse , not choosing to notice this last remark .\",\n",
              " \"' Of course they were ', said the Dormouse ; '-- well in .'\",\n",
              " 'This answer so confused poor Alice , that she let the Dormouse go on for some time without interrupting it .',\n",
              " \"' They were learning to draw ,' the Dormouse went on , yawning and rubbing its eyes , for it was getting very sleepy ; ' and they drew all manner of things -- everything that begins with an M --'\",\n",
              " \"' Why with an M ?'\",\n",
              " 'said Alice .',\n",
              " \"' Why not ?'\",\n",
              " 'said the March Hare .',\n",
              " 'Alice was silent .',\n",
              " 'The Dormouse had closed its eyes by this time , and was going off into a doze ; but , on being pinched by the Hatter , it woke up again with a little shriek , and went on : \\'-- that begins with an M , such as mouse - traps , and the moon , and memory , and muchness -- you know you say things are \" much of a muchness \"-- did you ever see such a thing as a drawing of a muchness ?\\'',\n",
              " \"' Really , now you ask me ,' said Alice , very much confused , ' I don ' t think --'\",\n",
              " \"' Then you shouldn ' t talk ,' said the Hatter .\",\n",
              " 'This piece of rudeness was more than Alice could bear : she got up in great disgust , and walked off ; the Dormouse fell asleep instantly , and neither of the others took the least notice of her going , though she looked back once or twice , half hoping that they would call after her : the last time she saw them , they were trying to put the Dormouse into the teapot .',\n",
              " \"' At any rate I ' ll never go THERE again !'\",\n",
              " 'said Alice as she picked her way through the wood .',\n",
              " \"' It ' s the stupidest tea - party I ever was at in all my life !'\",\n",
              " 'Just as she said this , she noticed that one of the trees had a door leading right into it .',\n",
              " \"' That ' s very curious !'\",\n",
              " 'she thought .',\n",
              " \"' But everything ' s curious today .\",\n",
              " \"I think I may as well go in at once .'\",\n",
              " 'And in she went .',\n",
              " 'Once more she found herself in the long hall , and close to the little glass table .',\n",
              " \"' Now , I ' ll manage better this time ,' she said to herself , and began by taking the little golden key , and unlocking the door that led into the garden .\",\n",
              " 'Then she went to work nibbling at the mushroom ( she had kept a piece of it in her pocket ) till she was about a foot high : then she walked down the little passage : and THEN -- she found herself at last in the beautiful garden , among the bright flower - beds and the cool fountains .',\n",
              " 'CHAPTER VIII .',\n",
              " \"The Queen ' s Croquet - Ground\",\n",
              " 'A large rose - tree stood near the entrance of the garden : the roses growing on it were white , but there were three gardeners at it , busily painting them red .',\n",
              " \"Alice thought this a very curious thing , and she went nearer to watch them , and just as she came up to them she heard one of them say , ' Look out now , Five !\",\n",
              " \"Don ' t go splashing paint over me like that !'\",\n",
              " \"' I couldn ' t help it ,' said Five , in a sulky tone ; ' Seven jogged my elbow .'\",\n",
              " \"On which Seven looked up and said , ' That ' s right , Five !\",\n",
              " \"Always lay the blame on others !'\",\n",
              " \"' YOU ' D better not talk !'\",\n",
              " 'said Five .',\n",
              " \"' I heard the Queen say only yesterday you deserved to be beheaded !'\",\n",
              " \"' What for ?'\",\n",
              " 'said the one who had spoken first .',\n",
              " \"' That ' s none of YOUR business , Two !'\",\n",
              " 'said Seven .',\n",
              " \"' Yes , it IS his business !'\",\n",
              " \"said Five , ' and I ' ll tell him -- it was for bringing the cook tulip - roots instead of onions .'\",\n",
              " \"Seven flung down his brush , and had just begun ' Well , of all the unjust things --' when his eye chanced to fall upon Alice , as she stood watching them , and he checked himself suddenly : the others looked round also , and all of them bowed low .\",\n",
              " \"' Would you tell me ,' said Alice , a little timidly , ' why you are painting those roses ?'\",\n",
              " 'Five and Seven said nothing , but looked at Two .',\n",
              " \"Two began in a low voice , ' Why the fact is , you see , Miss , this here ought to have been a RED rose - tree , and we put a white one in by mistake ; and if the Queen was to find it out , we should all have our heads cut off , you know .\",\n",
              " \"So you see , Miss , we ' re doing our best , afore she comes , to --' At this moment Five , who had been anxiously looking across the garden , called out ' The Queen !\",\n",
              " \"The Queen !'\",\n",
              " 'and the three gardeners instantly threw themselves flat upon their faces .',\n",
              " 'There was a sound of many footsteps , and Alice looked round , eager to see the Queen .',\n",
              " 'First came ten soldiers carrying clubs ; these were all shaped like the three gardeners , oblong and flat , with their hands and feet at the corners : next the ten courtiers ; these were ornamented all over with diamonds , and walked two and two , as the soldiers did .',\n",
              " 'After these came the royal children ; there were ten of them , and the little dears came jumping merrily along hand in hand , in couples : they were all ornamented with hearts .',\n",
              " 'Next came the guests , mostly Kings and Queens , and among them Alice recognised the White Rabbit : it was talking in a hurried nervous manner , smiling at everything that was said , and went by without noticing her .',\n",
              " \"Then followed the Knave of Hearts , carrying the King ' s crown on a crimson velvet cushion ; and , last of all this grand procession , came THE KING AND QUEEN OF HEARTS .\",\n",
              " \"Alice was rather doubtful whether she ought not to lie down on her face like the three gardeners , but she could not remember ever having heard of such a rule at processions ; ' and besides , what would be the use of a procession ,' thought she , ' if people had all to lie down upon their faces , so that they couldn ' t see it ?'\",\n",
              " 'So she stood still where she was , and waited .',\n",
              " \"When the procession came opposite to Alice , they all stopped and looked at her , and the Queen said severely ' Who is this ?'\",\n",
              " 'She said it to the Knave of Hearts , who only bowed and smiled in reply .',\n",
              " \"' Idiot !'\",\n",
              " \"said the Queen , tossing her head impatiently ; and , turning to Alice , she went on , ' What ' s your name , child ?'\",\n",
              " \"' My name is Alice , so please your Majesty ,' said Alice very politely ; but she added , to herself , ' Why , they ' re only a pack of cards , after all .\",\n",
              " \"I needn ' t be afraid of them !'\",\n",
              " \"' And who are THESE ?'\",\n",
              " 'said the Queen , pointing to the three gardeners who were lying round the rosetree ; for , you see , as they were lying on their faces , and the pattern on their backs was the same as the rest of the pack , she could not tell whether they were gardeners , or soldiers , or courtiers , or three of her own children .',\n",
              " ...]"
            ]
          },
          "metadata": {},
          "execution_count": 15
        }
      ]
    },
    {
      "cell_type": "code",
      "source": [
        "print(alice[0], '\\n', norm_alice[0])"
      ],
      "metadata": {
        "colab": {
          "base_uri": "https://localhost:8080/"
        },
        "id": "D1MyELrDDYpj",
        "outputId": "fca391ff-10e1-4b29-b745-bf0b3c1b4594"
      },
      "execution_count": 16,
      "outputs": [
        {
          "output_type": "stream",
          "name": "stdout",
          "text": [
            "[ Alice ' s Adventures in Wonderland by Lewis Carroll 1865 ] \n",
            " alice adventures wonderland lewis carroll\n"
          ]
        }
      ]
    },
    {
      "cell_type": "code",
      "source": [
        "## collocations\n"
      ],
      "metadata": {
        "id": "CzfjorHGDcMa"
      },
      "execution_count": null,
      "outputs": []
    },
    {
      "cell_type": "code",
      "source": [
        "def compute_ngrams(sequence, n):\n",
        "    return list(\n",
        "            zip(*(sequence[index:]\n",
        "                     for index in range(n)))\n",
        "    )"
      ],
      "metadata": {
        "id": "CsbpxGB9Dld2"
      },
      "execution_count": 17,
      "outputs": []
    },
    {
      "cell_type": "code",
      "source": [
        "compute_ngrams([1,2,3,4], 2)"
      ],
      "metadata": {
        "colab": {
          "base_uri": "https://localhost:8080/"
        },
        "id": "Ola7LtJjDltA",
        "outputId": "db84520b-f327-40a0-9488-bf61782636b8"
      },
      "execution_count": 18,
      "outputs": [
        {
          "output_type": "execute_result",
          "data": {
            "text/plain": [
              "[(1, 2), (2, 3), (3, 4)]"
            ]
          },
          "metadata": {},
          "execution_count": 18
        }
      ]
    },
    {
      "cell_type": "code",
      "source": [
        "compute_ngrams([1,2,3,4], 3)"
      ],
      "metadata": {
        "colab": {
          "base_uri": "https://localhost:8080/"
        },
        "id": "VDRYiDXtDqN_",
        "outputId": "13bc7eba-77b0-444d-c081-976be4bbb19e"
      },
      "execution_count": 19,
      "outputs": [
        {
          "output_type": "execute_result",
          "data": {
            "text/plain": [
              "[(1, 2, 3), (2, 3, 4)]"
            ]
          },
          "metadata": {},
          "execution_count": 19
        }
      ]
    },
    {
      "cell_type": "code",
      "source": [
        "def flatten_corpus(corpus):\n",
        "    return ' '.join([document.strip()\n",
        "                     for document in corpus])"
      ],
      "metadata": {
        "id": "scOawV41Drw9"
      },
      "execution_count": 20,
      "outputs": []
    },
    {
      "cell_type": "code",
      "source": [
        "##N- grams"
      ],
      "metadata": {
        "id": "5k2in10oDty0"
      },
      "execution_count": 21,
      "outputs": []
    },
    {
      "cell_type": "code",
      "source": [
        "def get_top_ngrams(corpus, ngram_val=1, limit=5):\n",
        "\n",
        "    corpus = flatten_corpus(corpus)\n",
        "    tokens = nltk.word_tokenize(corpus)\n",
        "\n",
        "    ngrams = compute_ngrams(tokens, ngram_val)\n",
        "    ngrams_freq_dist = nltk.FreqDist(ngrams)\n",
        "    sorted_ngrams_fd = sorted(ngrams_freq_dist.items(),\n",
        "                              key=itemgetter(1), reverse=True)\n",
        "    sorted_ngrams = sorted_ngrams_fd[0:limit]\n",
        "    sorted_ngrams = [(' '.join(text), freq)\n",
        "                     for text, freq in sorted_ngrams]\n",
        "\n",
        "    return sorted_ngrams"
      ],
      "metadata": {
        "id": "Wh90Kgr-D3ie"
      },
      "execution_count": 22,
      "outputs": []
    },
    {
      "cell_type": "code",
      "source": [
        "get_top_ngrams(corpus=norm_alice, ngram_val=2,\n",
        "               limit=10)"
      ],
      "metadata": {
        "colab": {
          "base_uri": "https://localhost:8080/"
        },
        "id": "jmvAoXEHD7u3",
        "outputId": "195dfe81-7270-4353-946b-66db2f3ac425"
      },
      "execution_count": 26,
      "outputs": [
        {
          "output_type": "execute_result",
          "data": {
            "text/plain": [
              "[('said alice', 123),\n",
              " ('mock turtle', 56),\n",
              " ('march hare', 31),\n",
              " ('said king', 29),\n",
              " ('thought alice', 26),\n",
              " ('white rabbit', 22),\n",
              " ('said hatter', 22),\n",
              " ('said mock', 20),\n",
              " ('said caterpillar', 18),\n",
              " ('said gryphon', 18)]"
            ]
          },
          "metadata": {},
          "execution_count": 26
        }
      ]
    },
    {
      "cell_type": "code",
      "source": [
        "get_top_ngrams(corpus=norm_alice, ngram_val=3,\n",
        "               limit=10)"
      ],
      "metadata": {
        "colab": {
          "base_uri": "https://localhost:8080/"
        },
        "id": "kTES0gZgEDKN",
        "outputId": "a5278bd2-f244-4861-dc33-4ccf6e659c2e"
      },
      "execution_count": 27,
      "outputs": [
        {
          "output_type": "execute_result",
          "data": {
            "text/plain": [
              "[('said mock turtle', 20),\n",
              " ('said march hare', 10),\n",
              " ('poor little thing', 6),\n",
              " ('little golden key', 5),\n",
              " ('certainly said alice', 5),\n",
              " ('white kid gloves', 5),\n",
              " ('march hare said', 5),\n",
              " ('mock turtle said', 5),\n",
              " ('know said alice', 4),\n",
              " ('might well say', 4)]"
            ]
          },
          "metadata": {},
          "execution_count": 27
        }
      ]
    },
    {
      "cell_type": "code",
      "source": [
        "data = open('elephants.txt', 'r+').readlines()\n",
        "sentences = nltk.sent_tokenize(data[0])\n",
        "len(sentences)"
      ],
      "metadata": {
        "colab": {
          "base_uri": "https://localhost:8080/"
        },
        "id": "CcVQcrYAEM53",
        "outputId": "8cdbf937-ce9b-4a4f-f310-a168ce29b90e"
      },
      "execution_count": 29,
      "outputs": [
        {
          "output_type": "execute_result",
          "data": {
            "text/plain": [
              "29"
            ]
          },
          "metadata": {},
          "execution_count": 29
        }
      ]
    },
    {
      "cell_type": "code",
      "source": [
        "data"
      ],
      "metadata": {
        "colab": {
          "base_uri": "https://localhost:8080/"
        },
        "id": "VUbKaUlpNX1w",
        "outputId": "71225934-836b-4594-b218-8e80d370cbe3"
      },
      "execution_count": 30,
      "outputs": [
        {
          "output_type": "execute_result",
          "data": {
            "text/plain": [
              "['Elephants are large mammals of the family Elephantidae and the order Proboscidea. Three species are currently recognised: the African bush elephant (Loxodonta africana), the African forest elephant (L. cyclotis), and the Asian elephant (Elephas maximus). Elephants are scattered throughout sub-Saharan Africa, South Asia, and Southeast Asia. Elephantidae is the only surviving family of the order Proboscidea; other, now extinct, members of the order include deinotheres, gomphotheres, mammoths, and mastodons. All elephants have several distinctive features, the most notable of which is a long trunk (also called a proboscis), used for many purposes, particularly breathing, lifting water, and grasping objects. Their incisors grow into tusks, which can serve as weapons and as tools for moving objects and digging. Elephants\\' large ear flaps help to control their body temperature. Their pillar-like legs can carry their great weight. African elephants have larger ears and concave backs while Asian elephants have smaller ears and convex or level backs. Elephants are herbivorous and can be found in different habitats including savannahs, forests, deserts, and marshes. They prefer to stay near water. They are considered to be a keystone species due to their impact on their environments. Other animals tend to keep their distance from elephants while predators, such as lions, tigers, hyenas, and any wild dogs, usually target only young elephants (or \"calves\"). Elephants have a fission-fusion society in which multiple family groups come together to socialise. Females (\"cows\") tend to live in family groups, which can consist of one female with her calves or several related females with offspring. The groups are led by an individual known as the matriarch, often the oldest cow. Males (\"bulls\") leave their family groups when they reach puberty and may live alone or with other males. Adult bulls mostly interact with family groups when looking for a mate and enter a state of increased testosterone and aggression known as musth, which helps them gain dominance and reproductive success. Calves are the centre of attention in their family groups and rely on their mothers for as long as three years. Elephants can live up to 70 years in the wild. They communicate by touch, sight, smell, and sound; elephants use infrasound, and seismic communication over long distances. Elephant intelligence has been compared with that of primates and cetaceans. They appear to have self-awareness and show empathy for dying or dead individuals of their kind. African elephants are listed as vulnerable by the International Union for Conservation of Nature (IUCN) while the Asian elephant is classed as endangered. One of the biggest threats to elephant populations is the ivory trade, as the animals are poached for their ivory tusks. Other threats to wild elephants include habitat destruction and conflicts with local people. Elephants are used as working animals in Asia. In the past, they were used in war; today, they are often controversially put on display in zoos, or exploited for entertainment in circuses. Elephants are highly recognisable and have been featured in art, folklore, religion, literature, and popular culture.']"
            ]
          },
          "metadata": {},
          "execution_count": 30
        }
      ]
    },
    {
      "cell_type": "code",
      "source": [
        "sentences[:3]"
      ],
      "metadata": {
        "colab": {
          "base_uri": "https://localhost:8080/"
        },
        "id": "BKY9LCZ_NfQ1",
        "outputId": "a2bd08db-17fd-4b58-8984-465bb1219623"
      },
      "execution_count": 31,
      "outputs": [
        {
          "output_type": "execute_result",
          "data": {
            "text/plain": [
              "['Elephants are large mammals of the family Elephantidae and the order Proboscidea.',\n",
              " 'Three species are currently recognised: the African bush elephant (Loxodonta africana), the African forest elephant (L. cyclotis), and the Asian elephant (Elephas maximus).',\n",
              " 'Elephants are scattered throughout sub-Saharan Africa, South Asia, and Southeast Asia.']"
            ]
          },
          "metadata": {},
          "execution_count": 31
        }
      ]
    },
    {
      "cell_type": "code",
      "source": [
        "norm_sentences = tn.normalize_corpus(sentences, text_lower_case=False,\n",
        "                                     text_stemming=False, text_lemmatization=False, stopword_removal=False)\n",
        "norm_sentences[:3]"
      ],
      "metadata": {
        "colab": {
          "base_uri": "https://localhost:8080/"
        },
        "id": "fgIjV7eON4ns",
        "outputId": "59537a58-f3ac-4c0d-cd10-67b8f8337b5b"
      },
      "execution_count": 32,
      "outputs": [
        {
          "output_type": "execute_result",
          "data": {
            "text/plain": [
              "['Elephants are large mammals of the family Elephantidae and the order Proboscidea',\n",
              " 'Three species are currently recognised the African bush elephant Loxodonta africana the African forest elephant L cyclotis and the Asian elephant Elephas maximus',\n",
              " 'Elephants are scattered throughout subSaharan Africa South Asia and Southeast Asia']"
            ]
          },
          "metadata": {},
          "execution_count": 32
        }
      ]
    },
    {
      "cell_type": "code",
      "source": [
        "import itertools\n",
        "stopwords = nltk.corpus.stopwords.words('english')\n",
        "\n",
        "def get_chunks(sentences, grammar = r'NP: {<DT>? <JJ>* <NN.*>+}', stopword_list=stopwords):\n",
        "\n",
        "    all_chunks = []\n",
        "    chunker = nltk.chunk.regexp.RegexpParser(grammar)\n",
        "\n",
        "    for sentence in sentences:\n",
        "\n",
        "        tagged_sents = [nltk.pos_tag(nltk.word_tokenize(sentence))]\n",
        "\n",
        "        chunks = [chunker.parse(tagged_sent)\n",
        "                      for tagged_sent in tagged_sents]\n",
        "\n",
        "        wtc_sents = [nltk.chunk.tree2conlltags(chunk)\n",
        "                         for chunk in chunks]\n",
        "\n",
        "        flattened_chunks = list(\n",
        "                            itertools.chain.from_iterable(\n",
        "                                wtc_sent for wtc_sent in wtc_sents)\n",
        "                           )\n",
        "\n",
        "        valid_chunks_tagged = [(status, [wtc for wtc in chunk])\n",
        "                                   for status, chunk\n",
        "                                       in itertools.groupby(flattened_chunks,\n",
        "                                                lambda word_pos_chunk: word_pos_chunk[2] != 'O')]\n",
        "\n",
        "        valid_chunks = [' '.join(word.lower()\n",
        "                                for word, tag, chunk in wtc_group\n",
        "                                    if word.lower() not in stopword_list)\n",
        "                                        for status, wtc_group in valid_chunks_tagged\n",
        "                                            if status]\n",
        "\n",
        "        all_chunks.append(valid_chunks)\n",
        "\n",
        "    return all_chunks"
      ],
      "metadata": {
        "id": "TphKkKTON64M"
      },
      "execution_count": 33,
      "outputs": []
    },
    {
      "cell_type": "code",
      "source": [
        "nltk.download('averaged_perceptron_tagger')"
      ],
      "metadata": {
        "colab": {
          "base_uri": "https://localhost:8080/"
        },
        "id": "UokDSkbVOEhg",
        "outputId": "6602b85a-8b4e-478c-e202-a5e123e2f606"
      },
      "execution_count": 35,
      "outputs": [
        {
          "output_type": "stream",
          "name": "stderr",
          "text": [
            "[nltk_data] Downloading package averaged_perceptron_tagger to\n",
            "[nltk_data]     /root/nltk_data...\n",
            "[nltk_data]   Unzipping taggers/averaged_perceptron_tagger.zip.\n"
          ]
        },
        {
          "output_type": "execute_result",
          "data": {
            "text/plain": [
              "True"
            ]
          },
          "metadata": {},
          "execution_count": 35
        }
      ]
    },
    {
      "cell_type": "code",
      "source": [
        "\n",
        "chunks = get_chunks(norm_sentences)\n",
        "chunks"
      ],
      "metadata": {
        "colab": {
          "base_uri": "https://localhost:8080/"
        },
        "id": "9T9TbFWGN-eZ",
        "outputId": "6a71db7d-cd08-4a7b-d0fe-3344646a94f1"
      },
      "execution_count": 36,
      "outputs": [
        {
          "output_type": "execute_result",
          "data": {
            "text/plain": [
              "[['elephants', 'large mammals', 'family elephantidae', 'order proboscidea'],\n",
              " ['species',\n",
              "  'african bush elephant loxodonta',\n",
              "  'african forest elephant l cyclotis',\n",
              "  'asian elephant elephas maximus'],\n",
              " ['elephants', 'subsaharan africa south asia', 'southeast asia'],\n",
              " ['elephantidae',\n",
              "  'family',\n",
              "  'order proboscidea',\n",
              "  'extinct members',\n",
              "  'order',\n",
              "  'deinotheres gomphotheres mammoths',\n",
              "  'mastodons'],\n",
              " ['elephants',\n",
              "  'several distinctive features',\n",
              "  'long trunk',\n",
              "  'proboscis',\n",
              "  'many purposes',\n",
              "  'water',\n",
              "  'grasping objects'],\n",
              " ['incisors', 'tusks', 'weapons', 'tools', 'objects'],\n",
              " ['elephants', 'flaps', 'body temperature'],\n",
              " ['pillarlike legs', 'great weight'],\n",
              " ['african elephants',\n",
              "  'ears',\n",
              "  'backs',\n",
              "  'asian elephants',\n",
              "  'ears',\n",
              "  'convex',\n",
              "  'level backs'],\n",
              " ['elephants', 'different habitats', 'savannahs forests deserts', 'marshes'],\n",
              " ['water'],\n",
              " ['keystone species', 'impact', 'environments'],\n",
              " ['animals',\n",
              "  'distance',\n",
              "  'elephants',\n",
              "  'predators',\n",
              "  'lions tigers hyenas',\n",
              "  'wild dogs',\n",
              "  'young elephants',\n",
              "  'calves'],\n",
              " ['elephants', 'fissionfusion society', 'multiple family groups'],\n",
              " ['females cows',\n",
              "  'family groups',\n",
              "  'female',\n",
              "  'calves',\n",
              "  'several related females'],\n",
              " ['groups', 'individual known', 'matriarch', 'cow'],\n",
              " ['males bulls', 'family groups', 'males'],\n",
              " ['adult',\n",
              "  'family groups',\n",
              "  'mate',\n",
              "  'enter state',\n",
              "  'increased testosterone',\n",
              "  'aggression',\n",
              "  'musth',\n",
              "  'dominance',\n",
              "  'reproductive success'],\n",
              " ['calves', 'centre', 'attention', 'family groups', 'mothers', 'years'],\n",
              " ['elephants', 'years', 'wild'],\n",
              " ['touch sight smell',\n",
              "  'sound elephants',\n",
              "  'infrasound',\n",
              "  'seismic communication',\n",
              "  'long distances'],\n",
              " ['elephant intelligence', 'primates', 'cetaceans'],\n",
              " ['selfawareness', 'dead individuals', 'kind'],\n",
              " ['african elephants',\n",
              "  'international union',\n",
              "  'conservation',\n",
              "  'nature iucn',\n",
              "  'asian elephant'],\n",
              " ['threats', 'populations', 'ivory trade', 'animals', 'ivory tusks'],\n",
              " ['threats', 'elephants', 'habitat destruction', 'conflicts', 'local people'],\n",
              " ['elephants', 'animals', 'asia'],\n",
              " ['past', 'war today', 'display', 'zoos', 'entertainment', 'circuses'],\n",
              " ['elephants', 'art folklore religion literature', 'popular culture']]"
            ]
          },
          "metadata": {},
          "execution_count": 36
        }
      ]
    },
    {
      "cell_type": "code",
      "source": [
        "from gensim import corpora, models\n",
        "\n",
        "def get_tfidf_weighted_keyphrases(sentences,\n",
        "                                  grammar=r'NP: {<DT>? <JJ>* <NN.*>+}',\n",
        "                                  top_n=10):\n",
        "\n",
        "    valid_chunks = get_chunks(sentences, grammar=grammar)\n",
        "\n",
        "    dictionary = corpora.Dictionary(valid_chunks)\n",
        "    corpus = [dictionary.doc2bow(chunk) for chunk in valid_chunks]\n",
        "\n",
        "    tfidf = models.TfidfModel(corpus)\n",
        "    corpus_tfidf = tfidf[corpus]\n",
        "\n",
        "    weighted_phrases = {dictionary.get(idx): value\n",
        "                           for doc in corpus_tfidf\n",
        "                               for idx, value in doc}\n",
        "\n",
        "    weighted_phrases = sorted(weighted_phrases.items(),\n",
        "                              key=itemgetter(1), reverse=True)\n",
        "    weighted_phrases = [(term, round(wt, 3)) for term, wt in weighted_phrases]\n",
        "\n",
        "    return weighted_phrases[:top_n]"
      ],
      "metadata": {
        "id": "PoPTbFwrOBUM"
      },
      "execution_count": 37,
      "outputs": []
    },
    {
      "cell_type": "code",
      "source": [
        "get_tfidf_weighted_keyphrases(sentences=norm_sentences, top_n=30)"
      ],
      "metadata": {
        "colab": {
          "base_uri": "https://localhost:8080/"
        },
        "id": "xzK1tBCVSEgD",
        "outputId": "52eefdf2-e300-4ec8-c531-f7c1951bd4fa"
      },
      "execution_count": 38,
      "outputs": [
        {
          "output_type": "execute_result",
          "data": {
            "text/plain": [
              "[('water', 1.0),\n",
              " ('asia', 0.807),\n",
              " ('wild', 0.764),\n",
              " ('great weight', 0.707),\n",
              " ('pillarlike legs', 0.707),\n",
              " ('southeast asia', 0.693),\n",
              " ('subsaharan africa south asia', 0.693),\n",
              " ('body temperature', 0.693),\n",
              " ('flaps', 0.693),\n",
              " ('fissionfusion society', 0.693),\n",
              " ('multiple family groups', 0.693),\n",
              " ('art folklore religion literature', 0.693),\n",
              " ('popular culture', 0.693),\n",
              " ('ears', 0.681),\n",
              " ('males', 0.653),\n",
              " ('males bulls', 0.653),\n",
              " ('family elephantidae', 0.607),\n",
              " ('large mammals', 0.607),\n",
              " ('years', 0.607),\n",
              " ('environments', 0.577),\n",
              " ('impact', 0.577),\n",
              " ('keystone species', 0.577),\n",
              " ('cetaceans', 0.577),\n",
              " ('elephant intelligence', 0.577),\n",
              " ('primates', 0.577),\n",
              " ('dead individuals', 0.577),\n",
              " ('kind', 0.577),\n",
              " ('selfawareness', 0.577),\n",
              " ('different habitats', 0.57),\n",
              " ('marshes', 0.57)]"
            ]
          },
          "metadata": {},
          "execution_count": 38
        }
      ]
    },
    {
      "cell_type": "code",
      "source": [
        "import gensim"
      ],
      "metadata": {
        "id": "rG5FMO8PSUcq"
      },
      "execution_count": 45,
      "outputs": []
    },
    {
      "cell_type": "code",
      "source": [
        "! pip install gensim"
      ],
      "metadata": {
        "colab": {
          "base_uri": "https://localhost:8080/"
        },
        "id": "VATK67hZScw2",
        "outputId": "40968f91-a030-434e-f2da-0c9a0db96bae"
      },
      "execution_count": 43,
      "outputs": [
        {
          "output_type": "stream",
          "name": "stdout",
          "text": [
            "Requirement already satisfied: gensim in /usr/local/lib/python3.10/dist-packages (4.3.2)\n",
            "Requirement already satisfied: numpy>=1.18.5 in /usr/local/lib/python3.10/dist-packages (from gensim) (1.23.5)\n",
            "Requirement already satisfied: scipy>=1.7.0 in /usr/local/lib/python3.10/dist-packages (from gensim) (1.11.3)\n",
            "Requirement already satisfied: smart-open>=1.8.1 in /usr/local/lib/python3.10/dist-packages (from gensim) (6.4.0)\n"
          ]
        }
      ]
    },
    {
      "cell_type": "code",
      "source": [
        "from gensim.summarization import keywords\n",
        "\n",
        "key_words = keywords(data[0], ratio=1.0, scores=True, lemmatize=True)\n",
        "[(item, round(score, 3)) for item, score in key_words][:25]"
      ],
      "metadata": {
        "colab": {
          "base_uri": "https://localhost:8080/",
          "height": 529
        },
        "id": "DQ5d6b-ISGiZ",
        "outputId": "11a1201d-9834-4044-cf67-9356f1ceaade"
      },
      "execution_count": 49,
      "outputs": [
        {
          "output_type": "error",
          "ename": "ImportError",
          "evalue": "ignored",
          "traceback": [
            "\u001b[0;31m---------------------------------------------------------------------------\u001b[0m",
            "\u001b[0;31mImportError\u001b[0m                               Traceback (most recent call last)",
            "\u001b[0;32m<ipython-input-49-1a4f50571b5b>\u001b[0m in \u001b[0;36m<cell line: 1>\u001b[0;34m()\u001b[0m\n\u001b[0;32m----> 1\u001b[0;31m \u001b[0;32mfrom\u001b[0m \u001b[0mgensim\u001b[0m\u001b[0;34m.\u001b[0m\u001b[0msummarization\u001b[0m \u001b[0;32mimport\u001b[0m \u001b[0mkeywords\u001b[0m\u001b[0;34m\u001b[0m\u001b[0;34m\u001b[0m\u001b[0m\n\u001b[0m\u001b[1;32m      2\u001b[0m \u001b[0;34m\u001b[0m\u001b[0m\n\u001b[1;32m      3\u001b[0m \u001b[0mkey_words\u001b[0m \u001b[0;34m=\u001b[0m \u001b[0mkeywords\u001b[0m\u001b[0;34m(\u001b[0m\u001b[0mdata\u001b[0m\u001b[0;34m[\u001b[0m\u001b[0;36m0\u001b[0m\u001b[0;34m]\u001b[0m\u001b[0;34m,\u001b[0m \u001b[0mratio\u001b[0m\u001b[0;34m=\u001b[0m\u001b[0;36m1.0\u001b[0m\u001b[0;34m,\u001b[0m \u001b[0mscores\u001b[0m\u001b[0;34m=\u001b[0m\u001b[0;32mTrue\u001b[0m\u001b[0;34m,\u001b[0m \u001b[0mlemmatize\u001b[0m\u001b[0;34m=\u001b[0m\u001b[0;32mTrue\u001b[0m\u001b[0;34m)\u001b[0m\u001b[0;34m\u001b[0m\u001b[0;34m\u001b[0m\u001b[0m\n\u001b[1;32m      4\u001b[0m \u001b[0;34m[\u001b[0m\u001b[0;34m(\u001b[0m\u001b[0mitem\u001b[0m\u001b[0;34m,\u001b[0m \u001b[0mround\u001b[0m\u001b[0;34m(\u001b[0m\u001b[0mscore\u001b[0m\u001b[0;34m,\u001b[0m \u001b[0;36m3\u001b[0m\u001b[0;34m)\u001b[0m\u001b[0;34m)\u001b[0m \u001b[0;32mfor\u001b[0m \u001b[0mitem\u001b[0m\u001b[0;34m,\u001b[0m \u001b[0mscore\u001b[0m \u001b[0;32min\u001b[0m \u001b[0mkey_words\u001b[0m\u001b[0;34m]\u001b[0m\u001b[0;34m[\u001b[0m\u001b[0;34m:\u001b[0m\u001b[0;36m25\u001b[0m\u001b[0;34m]\u001b[0m\u001b[0;34m\u001b[0m\u001b[0;34m\u001b[0m\u001b[0m\n",
            "\u001b[0;32m/usr/local/lib/python3.10/dist-packages/gensim/summarization/__init__.py\u001b[0m in \u001b[0;36m<module>\u001b[0;34m\u001b[0m\n\u001b[1;32m      1\u001b[0m \u001b[0;34m\u001b[0m\u001b[0m\n\u001b[1;32m      2\u001b[0m \u001b[0;31m# bring model classes directly into package namespace, to save some typing\u001b[0m\u001b[0;34m\u001b[0m\u001b[0;34m\u001b[0m\u001b[0m\n\u001b[0;32m----> 3\u001b[0;31m \u001b[0;32mfrom\u001b[0m \u001b[0;34m.\u001b[0m\u001b[0msummarizer\u001b[0m \u001b[0;32mimport\u001b[0m \u001b[0msummarize\u001b[0m\u001b[0;34m,\u001b[0m \u001b[0msummarize_corpus\u001b[0m  \u001b[0;31m# noqa:F401\u001b[0m\u001b[0;34m\u001b[0m\u001b[0;34m\u001b[0m\u001b[0m\n\u001b[0m\u001b[1;32m      4\u001b[0m \u001b[0;32mfrom\u001b[0m \u001b[0;34m.\u001b[0m\u001b[0mkeywords\u001b[0m \u001b[0;32mimport\u001b[0m \u001b[0mkeywords\u001b[0m  \u001b[0;31m# noqa:F401\u001b[0m\u001b[0;34m\u001b[0m\u001b[0;34m\u001b[0m\u001b[0m\n\u001b[1;32m      5\u001b[0m \u001b[0;32mfrom\u001b[0m \u001b[0;34m.\u001b[0m\u001b[0mmz_entropy\u001b[0m \u001b[0;32mimport\u001b[0m \u001b[0mmz_keywords\u001b[0m  \u001b[0;31m# noqa:F401\u001b[0m\u001b[0;34m\u001b[0m\u001b[0;34m\u001b[0m\u001b[0m\n",
            "\u001b[0;32m/usr/local/lib/python3.10/dist-packages/gensim/summarization/summarizer.py\u001b[0m in \u001b[0;36m<module>\u001b[0;34m\u001b[0m\n\u001b[1;32m     56\u001b[0m \u001b[0;32mfrom\u001b[0m \u001b[0mgensim\u001b[0m\u001b[0;34m.\u001b[0m\u001b[0mutils\u001b[0m \u001b[0;32mimport\u001b[0m \u001b[0mdeprecated\u001b[0m\u001b[0;34m\u001b[0m\u001b[0;34m\u001b[0m\u001b[0m\n\u001b[1;32m     57\u001b[0m \u001b[0;32mfrom\u001b[0m \u001b[0mgensim\u001b[0m\u001b[0;34m.\u001b[0m\u001b[0msummarization\u001b[0m\u001b[0;34m.\u001b[0m\u001b[0mpagerank_weighted\u001b[0m \u001b[0;32mimport\u001b[0m \u001b[0mpagerank_weighted\u001b[0m \u001b[0;32mas\u001b[0m \u001b[0m_pagerank\u001b[0m\u001b[0;34m\u001b[0m\u001b[0;34m\u001b[0m\u001b[0m\n\u001b[0;32m---> 58\u001b[0;31m \u001b[0;32mfrom\u001b[0m \u001b[0mgensim\u001b[0m\u001b[0;34m.\u001b[0m\u001b[0msummarization\u001b[0m\u001b[0;34m.\u001b[0m\u001b[0mtextcleaner\u001b[0m \u001b[0;32mimport\u001b[0m \u001b[0mclean_text_by_sentences\u001b[0m \u001b[0;32mas\u001b[0m \u001b[0m_clean_text_by_sentences\u001b[0m\u001b[0;34m\u001b[0m\u001b[0;34m\u001b[0m\u001b[0m\n\u001b[0m\u001b[1;32m     59\u001b[0m \u001b[0;32mfrom\u001b[0m \u001b[0mgensim\u001b[0m\u001b[0;34m.\u001b[0m\u001b[0msummarization\u001b[0m\u001b[0;34m.\u001b[0m\u001b[0mcommons\u001b[0m \u001b[0;32mimport\u001b[0m \u001b[0mbuild_graph\u001b[0m \u001b[0;32mas\u001b[0m \u001b[0m_build_graph\u001b[0m\u001b[0;34m\u001b[0m\u001b[0;34m\u001b[0m\u001b[0m\n\u001b[1;32m     60\u001b[0m \u001b[0;32mfrom\u001b[0m \u001b[0mgensim\u001b[0m\u001b[0;34m.\u001b[0m\u001b[0msummarization\u001b[0m\u001b[0;34m.\u001b[0m\u001b[0mcommons\u001b[0m \u001b[0;32mimport\u001b[0m \u001b[0mremove_unreachable_nodes\u001b[0m \u001b[0;32mas\u001b[0m \u001b[0m_remove_unreachable_nodes\u001b[0m\u001b[0;34m\u001b[0m\u001b[0;34m\u001b[0m\u001b[0m\n",
            "\u001b[0;32m/usr/local/lib/python3.10/dist-packages/gensim/summarization/textcleaner.py\u001b[0m in \u001b[0;36m<module>\u001b[0;34m\u001b[0m\n\u001b[1;32m     23\u001b[0m \u001b[0;32mfrom\u001b[0m \u001b[0mgensim\u001b[0m\u001b[0;34m.\u001b[0m\u001b[0msummarization\u001b[0m\u001b[0;34m.\u001b[0m\u001b[0msyntactic_unit\u001b[0m \u001b[0;32mimport\u001b[0m \u001b[0mSyntacticUnit\u001b[0m\u001b[0;34m\u001b[0m\u001b[0;34m\u001b[0m\u001b[0m\n\u001b[1;32m     24\u001b[0m \u001b[0;32mfrom\u001b[0m \u001b[0mgensim\u001b[0m\u001b[0;34m.\u001b[0m\u001b[0mparsing\u001b[0m\u001b[0;34m.\u001b[0m\u001b[0mpreprocessing\u001b[0m \u001b[0;32mimport\u001b[0m \u001b[0mpreprocess_documents\u001b[0m\u001b[0;34m\u001b[0m\u001b[0;34m\u001b[0m\u001b[0m\n\u001b[0;32m---> 25\u001b[0;31m \u001b[0;32mfrom\u001b[0m \u001b[0mgensim\u001b[0m\u001b[0;34m.\u001b[0m\u001b[0mutils\u001b[0m \u001b[0;32mimport\u001b[0m \u001b[0mtokenize\u001b[0m\u001b[0;34m,\u001b[0m \u001b[0mhas_pattern\u001b[0m\u001b[0;34m\u001b[0m\u001b[0;34m\u001b[0m\u001b[0m\n\u001b[0m\u001b[1;32m     26\u001b[0m \u001b[0;32mfrom\u001b[0m \u001b[0msix\u001b[0m\u001b[0;34m.\u001b[0m\u001b[0mmoves\u001b[0m \u001b[0;32mimport\u001b[0m \u001b[0mrange\u001b[0m\u001b[0;34m\u001b[0m\u001b[0;34m\u001b[0m\u001b[0m\n\u001b[1;32m     27\u001b[0m \u001b[0;32mimport\u001b[0m \u001b[0mre\u001b[0m\u001b[0;34m\u001b[0m\u001b[0;34m\u001b[0m\u001b[0m\n",
            "\u001b[0;31mImportError\u001b[0m: cannot import name 'has_pattern' from 'gensim.utils' (/usr/local/lib/python3.10/dist-packages/gensim/utils.py)",
            "",
            "\u001b[0;31m---------------------------------------------------------------------------\u001b[0;32m\nNOTE: If your import is failing due to a missing package, you can\nmanually install dependencies using either !pip or !apt.\n\nTo view examples of installing some common dependencies, click the\n\"Open Examples\" button below.\n\u001b[0;31m---------------------------------------------------------------------------\u001b[0m\n"
          ],
          "errorDetails": {
            "actions": [
              {
                "action": "open_url",
                "actionText": "Open Examples",
                "url": "/notebooks/snippets/importing_libraries.ipynb"
              }
            ]
          }
        }
      ]
    },
    {
      "cell_type": "code",
      "source": [
        "\n",
        "!pip install \"gensim==3.8.3\""
      ],
      "metadata": {
        "colab": {
          "base_uri": "https://localhost:8080/"
        },
        "id": "D_kzKCIvSS2u",
        "outputId": "c7e6e393-404e-4471-da04-3712ec0c905e"
      },
      "execution_count": 50,
      "outputs": [
        {
          "output_type": "stream",
          "name": "stdout",
          "text": [
            "Collecting gensim==3.8.3\n",
            "  Downloading gensim-3.8.3.tar.gz (23.4 MB)\n",
            "\u001b[2K     \u001b[90m━━━━━━━━━━━━━━━━━━━━━━━━━━━━━━━━━━━━━━━━\u001b[0m \u001b[32m23.4/23.4 MB\u001b[0m \u001b[31m20.2 MB/s\u001b[0m eta \u001b[36m0:00:00\u001b[0m\n",
            "\u001b[?25h  Preparing metadata (setup.py) ... \u001b[?25l\u001b[?25hdone\n",
            "Requirement already satisfied: numpy>=1.11.3 in /usr/local/lib/python3.10/dist-packages (from gensim==3.8.3) (1.23.5)\n",
            "Requirement already satisfied: scipy>=0.18.1 in /usr/local/lib/python3.10/dist-packages (from gensim==3.8.3) (1.11.3)\n",
            "Requirement already satisfied: six>=1.5.0 in /usr/local/lib/python3.10/dist-packages (from gensim==3.8.3) (1.16.0)\n",
            "Requirement already satisfied: smart_open>=1.8.1 in /usr/local/lib/python3.10/dist-packages (from gensim==3.8.3) (6.4.0)\n",
            "Building wheels for collected packages: gensim\n",
            "  \u001b[1;31merror\u001b[0m: \u001b[1msubprocess-exited-with-error\u001b[0m\n",
            "  \n",
            "  \u001b[31m×\u001b[0m \u001b[32mpython setup.py bdist_wheel\u001b[0m did not run successfully.\n",
            "  \u001b[31m│\u001b[0m exit code: \u001b[1;36m1\u001b[0m\n",
            "  \u001b[31m╰─>\u001b[0m See above for output.\n",
            "  \n",
            "  \u001b[1;35mnote\u001b[0m: This error originates from a subprocess, and is likely not a problem with pip.\n",
            "  Building wheel for gensim (setup.py) ... \u001b[?25lerror\n",
            "\u001b[31m  ERROR: Failed building wheel for gensim\u001b[0m\u001b[31m\n",
            "\u001b[0m\u001b[?25h  Running setup.py clean for gensim\n",
            "Failed to build gensim\n",
            "\u001b[31mERROR: Could not build wheels for gensim, which is required to install pyproject.toml-based projects\u001b[0m\u001b[31m\n",
            "\u001b[0m"
          ]
        }
      ]
    },
    {
      "cell_type": "code",
      "source": [],
      "metadata": {
        "id": "hz5QE7wHSu-o"
      },
      "execution_count": null,
      "outputs": []
    }
  ]
}